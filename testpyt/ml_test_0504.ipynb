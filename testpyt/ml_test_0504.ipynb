{
 "cells": [
  {
   "cell_type": "code",
   "execution_count": 41,
   "metadata": {},
   "outputs": [],
   "source": [
    "import torch"
   ]
  },
  {
   "cell_type": "code",
   "execution_count": 42,
   "metadata": {},
   "outputs": [
    {
     "name": "stdout",
     "output_type": "stream",
     "text": [
      "tensor([[1, 2],\n",
      "        [3, 4]])\n",
      "tensor([[1., 2.],\n",
      "        [3., 4.]], dtype=torch.float64)\n"
     ]
    }
   ],
   "source": [
    "t1=torch.tensor([[1,2],[3,4]])\n",
    "# t2=torch.tensor([[1,2],[3,4]], device='cuda:0')\n",
    "t3=torch.tensor([[1,2],[3,4]], dtype=torch.float64)\n",
    "print(t1)\n",
    "# print(t2)\n",
    "print(t3)"
   ]
  },
  {
   "cell_type": "code",
   "execution_count": 43,
   "metadata": {},
   "outputs": [
    {
     "name": "stdout",
     "output_type": "stream",
     "text": [
      "tensor([[1., 2.],\n",
      "        [3., 4.]])\n",
      "tensor([[1, 2],\n",
      "        [3, 4]])\n",
      "tensor([[1, 2],\n",
      "        [3, 4]], dtype=torch.uint8)\n"
     ]
    }
   ],
   "source": [
    "t4=torch.FloatTensor([[1,2],[3,4]])\n",
    "t5=torch.LongTensor([[1,2],[3,4]])\n",
    "t6=torch.ByteTensor([[1,2],[3,4]])\n",
    "print(t4)\n",
    "print(t5)\n",
    "print(t6)\n"
   ]
  },
  {
   "cell_type": "code",
   "execution_count": 44,
   "metadata": {},
   "outputs": [
    {
     "name": "stdout",
     "output_type": "stream",
     "text": [
      "[[1 2]\n",
      " [3 4]]\n",
      "<class 'numpy.ndarray'>\n"
     ]
    }
   ],
   "source": [
    "import numpy as np\n",
    "x=np.array([[1,2],[3,4]])\n",
    "print(x)\n",
    "print(type(x))"
   ]
  },
  {
   "cell_type": "code",
   "execution_count": 45,
   "metadata": {},
   "outputs": [
    {
     "name": "stdout",
     "output_type": "stream",
     "text": [
      "tensor([[1, 2],\n",
      "        [3, 4]], dtype=torch.int32) <class 'torch.Tensor'>\n"
     ]
    }
   ],
   "source": [
    "t=torch.from_numpy(x) # numpy array -> torch tensor로\n",
    "print(t, type(t))"
   ]
  },
  {
   "cell_type": "code",
   "execution_count": 46,
   "metadata": {},
   "outputs": [
    {
     "name": "stdout",
     "output_type": "stream",
     "text": [
      "[[1 2]\n",
      " [3 4]]\n"
     ]
    }
   ],
   "source": [
    "nx=t.numpy() # tensor -> numpy array로\n",
    "print(nx)"
   ]
  },
  {
   "cell_type": "code",
   "execution_count": 47,
   "metadata": {},
   "outputs": [
    {
     "name": "stdout",
     "output_type": "stream",
     "text": [
      "tensor([[1., 2., 3.],\n",
      "        [4., 5., 6.]])\n",
      "tensor([[1, 2, 3],\n",
      "        [4, 5, 6]])\n",
      "tensor([[1, 2, 3],\n",
      "        [4, 5, 6]], dtype=torch.uint8)\n",
      "tensor([[1., 2., 3.],\n",
      "        [4., 5., 6.]])\n"
     ]
    }
   ],
   "source": [
    "# 데이터 형 변환\n",
    "ft=torch.FloatTensor([[1,2,3],[4,5,6]])\n",
    "print(ft)\n",
    "lt=ft.long() #LongTensor로 바꾸기\n",
    "print(lt)\n",
    "bt=lt.byte() #ByteTensor로 바꾸기\n",
    "print(bt)\n",
    "ft1=lt.float() #FloatTensor 바꾸기\n",
    "print(ft1)"
   ]
  },
  {
   "cell_type": "code",
   "execution_count": 48,
   "metadata": {},
   "outputs": [
    {
     "name": "stdout",
     "output_type": "stream",
     "text": [
      "tensor([[[[ 1,  2],\n",
      "          [ 3,  4],\n",
      "          [ 5,  6]],\n",
      "\n",
      "         [[ 7,  8],\n",
      "          [ 9, 10],\n",
      "          [11, 12]]]])\n"
     ]
    }
   ],
   "source": [
    "x=torch.tensor([[[[1,2],[3,4],[5,6]],[[7,8],[9,10],[11,12]]]])\n",
    "print(x)"
   ]
  },
  {
   "cell_type": "code",
   "execution_count": 49,
   "metadata": {},
   "outputs": [
    {
     "name": "stdout",
     "output_type": "stream",
     "text": [
      "torch.Size([1, 2, 3, 2])\n",
      "torch.Size([1, 2, 3, 2])\n",
      "1\n",
      "2\n",
      "3\n",
      "1\n",
      "2\n",
      "4\n",
      "4\n"
     ]
    }
   ],
   "source": [
    "print(x.size())\n",
    "print(x.shape)\n",
    "print(x.size(0))\n",
    "print(x.size(1))\n",
    "print(x.size(2))\n",
    "print(x.shape[0])\n",
    "print(x.shape[-1]) # 맨마지막 요소가 나온다\n",
    "print(x.dim())\n",
    "print(len(x.size()))"
   ]
  },
  {
   "cell_type": "code",
   "execution_count": 50,
   "metadata": {},
   "outputs": [
    {
     "name": "stdout",
     "output_type": "stream",
     "text": [
      "tensor([[1., 2.],\n",
      "        [3., 4.]])\n",
      "tensor([[2., 2.],\n",
      "        [4., 4.]])\n"
     ]
    }
   ],
   "source": [
    "# 텐서끼리 연산\n",
    "a=torch.FloatTensor([[1,2],[3,4]])\n",
    "b=torch.FloatTensor([[2,2],[4,4]])\n",
    "print(a)\n",
    "print(b)"
   ]
  },
  {
   "cell_type": "code",
   "execution_count": 51,
   "metadata": {},
   "outputs": [
    {
     "name": "stdout",
     "output_type": "stream",
     "text": [
      "tensor([[3., 4.],\n",
      "        [7., 8.]])\n",
      "tensor([[-1.,  0.],\n",
      "        [-1.,  0.]])\n",
      "tensor([[ 2.,  4.],\n",
      "        [12., 16.]])\n",
      "tensor([[0.5000, 1.0000],\n",
      "        [0.7500, 1.0000]])\n",
      "tensor([[False,  True],\n",
      "        [False,  True]])\n",
      "tensor([[ True, False],\n",
      "        [ True, False]])\n",
      "tensor([[  1.,   4.],\n",
      "        [ 81., 256.]])\n"
     ]
    }
   ],
   "source": [
    "print(a+b)\n",
    "print(a-b)\n",
    "print(a*b)\n",
    "print(a/b)\n",
    "print(a==b)\n",
    "print(a!=b)\n",
    "print(a**b)"
   ]
  },
  {
   "cell_type": "code",
   "execution_count": 52,
   "metadata": {},
   "outputs": [
    {
     "name": "stdout",
     "output_type": "stream",
     "text": [
      "tensor([[1., 2.],\n",
      "        [3., 4.]])\n",
      "tensor([[ 2.,  4.],\n",
      "        [12., 16.]])\n",
      "tensor([[1., 2.],\n",
      "        [3., 4.]])\n",
      "tensor([[ 2.,  4.],\n",
      "        [12., 16.]])\n",
      "tensor([[ 2.,  4.],\n",
      "        [12., 16.]])\n"
     ]
    }
   ],
   "source": [
    "print(a)\n",
    "print(a.mul(b))\n",
    "print(a)\n",
    "print(a.mul_(b))\n",
    "print(a)"
   ]
  },
  {
   "cell_type": "code",
   "execution_count": 53,
   "metadata": {},
   "outputs": [
    {
     "name": "stdout",
     "output_type": "stream",
     "text": [
      "tensor([[ 2.,  4.],\n",
      "        [12., 16.]])\n",
      "tensor(34.)\n",
      "tensor([14., 20.])\n",
      "tensor([ 6., 28.])\n",
      "tensor(8.5000)\n",
      "tensor([ 7., 10.])\n",
      "tensor([ 3., 14.])\n"
     ]
    }
   ],
   "source": [
    "x=a\n",
    "print(x)\n",
    "print(x.sum())\n",
    "print(x.sum(dim=0)) # col별 sum\n",
    "print(x.sum(dim=1)) # row별 sum\n",
    "print(x.mean())\n",
    "print(x.mean(dim=0)) # col별 mean\n",
    "print(x.mean(dim=1)) # row별 mean"
   ]
  },
  {
   "cell_type": "code",
   "execution_count": 54,
   "metadata": {},
   "outputs": [
    {
     "name": "stdout",
     "output_type": "stream",
     "text": [
      "torch.Size([2, 2])\n",
      "tensor([[ 3.,  5.],\n",
      "        [13., 17.]])\n",
      "torch.Size([2, 2])\n"
     ]
    }
   ],
   "source": [
    "# 텐서+스칼라(=일반숫자)\n",
    "y=1\n",
    "z=x+y\n",
    "print(x.size())\n",
    "print(z)\n",
    "print(z.size())"
   ]
  },
  {
   "cell_type": "code",
   "execution_count": 55,
   "metadata": {},
   "outputs": [
    {
     "name": "stdout",
     "output_type": "stream",
     "text": [
      "torch.Size([2])\n",
      "tensor([[4., 6.],\n",
      "        [6., 8.]])\n",
      "torch.Size([2, 2])\n"
     ]
    }
   ],
   "source": [
    "x=torch.FloatTensor([[1,2],[3,4]])\n",
    "y=torch.FloatTensor([3,4])\n",
    "print(y.size())\n",
    "z=x+y\n",
    "print(z)\n",
    "print(z.size())"
   ]
  },
  {
   "cell_type": "code",
   "execution_count": 56,
   "metadata": {},
   "outputs": [
    {
     "name": "stdout",
     "output_type": "stream",
     "text": [
      "torch.Size([1, 2])\n",
      "torch.Size([2, 1])\n",
      "tensor([[4., 5.],\n",
      "        [5., 6.]])\n",
      "torch.Size([2, 2])\n"
     ]
    }
   ],
   "source": [
    "x=torch.FloatTensor([[1,2]])\n",
    "y=torch.FloatTensor([[3],[4]])\n",
    "print(x.size())\n",
    "print(y.size())\n",
    "z=x+y\n",
    "print(z)\n",
    "print(z.size())"
   ]
  },
  {
   "cell_type": "code",
   "execution_count": 57,
   "metadata": {},
   "outputs": [
    {
     "data": {
      "text/plain": [
       "array([[ 1,  2,  3,  4],\n",
       "       [ 5,  6,  7,  8],\n",
       "       [ 9, 10, 11, 12]])"
      ]
     },
     "execution_count": 57,
     "metadata": {},
     "output_type": "execute_result"
    }
   ],
   "source": [
    "a=np.arange(1,13).reshape(3,4)\n",
    "a"
   ]
  },
  {
   "cell_type": "code",
   "execution_count": 58,
   "metadata": {},
   "outputs": [
    {
     "name": "stdout",
     "output_type": "stream",
     "text": [
      "tensor([[[ 1.,  2.],\n",
      "         [ 3.,  4.]],\n",
      "\n",
      "        [[ 5.,  6.],\n",
      "         [ 7.,  8.]],\n",
      "\n",
      "        [[ 9., 10.],\n",
      "         [11., 12.]]])\n",
      "torch.Size([3, 2, 2])\n",
      "tensor([ 1.,  2.,  3.,  4.,  5.,  6.,  7.,  8.,  9., 10., 11., 12.])\n",
      "torch.Size([12])\n"
     ]
    }
   ],
   "source": [
    "x=torch.FloatTensor([[[1,2],[3,4]],[[5,6],[7,8]],[[9,10],[11,12]]])\n",
    "y=torch.FloatTensor([1,2,3,4,5,6,7,8,9,10,11,12])\n",
    "print(x)\n",
    "print(x.size())\n",
    "print(y)\n",
    "print(y.size())"
   ]
  },
  {
   "cell_type": "code",
   "execution_count": 59,
   "metadata": {},
   "outputs": [
    {
     "name": "stdout",
     "output_type": "stream",
     "text": [
      "tensor([[ 1.,  2.,  3.,  4.],\n",
      "        [ 5.,  6.,  7.,  8.],\n",
      "        [ 9., 10., 11., 12.]])\n",
      "tensor([[ 1.,  2.,  3.,  4.],\n",
      "        [ 5.,  6.,  7.,  8.],\n",
      "        [ 9., 10., 11., 12.]])\n",
      "tensor([[[ 1.,  2.],\n",
      "         [ 3.,  4.],\n",
      "         [ 5.,  6.]],\n",
      "\n",
      "        [[ 7.,  8.],\n",
      "         [ 9., 10.],\n",
      "         [11., 12.]]])\n",
      "tensor([[[ 1.,  2.,  3.],\n",
      "         [ 4.,  5.,  6.]],\n",
      "\n",
      "        [[ 7.,  8.,  9.],\n",
      "         [10., 11., 12.]]])\n"
     ]
    }
   ],
   "source": [
    "print(x.view(3,4))\n",
    "print(y.view(3,4))\n",
    "print(y.view(2,3,2))\n",
    "print(y.view(2,2,3))"
   ]
  },
  {
   "cell_type": "code",
   "execution_count": 60,
   "metadata": {},
   "outputs": [
    {
     "name": "stdout",
     "output_type": "stream",
     "text": [
      "tensor([[ 1.,  2.,  3.,  4.],\n",
      "        [ 5.,  6.,  7.,  8.],\n",
      "        [ 9., 10., 11., 12.]])\n",
      "torch.Size([3, 4])\n",
      "tensor([[[ 1.,  2.,  3.,  4.]],\n",
      "\n",
      "        [[ 5.,  6.,  7.,  8.]],\n",
      "\n",
      "        [[ 9., 10., 11., 12.]]])\n",
      "torch.Size([3, 1, 4])\n",
      "tensor([[ 1.,  2.,  3.,  4.],\n",
      "        [ 5.,  6.,  7.,  8.],\n",
      "        [ 9., 10., 11., 12.]])\n"
     ]
    }
   ],
   "source": [
    "# squeeze : 텐서에서 차원이 1인 차원을 제거\n",
    "y=y.view(3,1,4)\n",
    "print(y.squeeze())\n",
    "print(y.squeeze().size())\n",
    "print(y.squeeze(0)) # 차원이 1인 차원을 (x)\n",
    "print(y.squeeze(0).size()) \n",
    "print(y.squeeze(1)) # 차원이 1인 차원을 제거(0)"
   ]
  },
  {
   "cell_type": "code",
   "execution_count": 61,
   "metadata": {},
   "outputs": [
    {
     "name": "stdout",
     "output_type": "stream",
     "text": [
      "tensor([[1., 2.],\n",
      "        [3., 4.]])\n",
      "torch.Size([2, 2])\n",
      "tensor([[[1.],\n",
      "         [2.]],\n",
      "\n",
      "        [[3.],\n",
      "         [4.]]])\n",
      "tensor([[[1., 2.]],\n",
      "\n",
      "        [[3., 4.]]])\n",
      "tensor([[[1.],\n",
      "         [2.]],\n",
      "\n",
      "        [[3.],\n",
      "         [4.]]])\n",
      "tensor([[[1.],\n",
      "         [2.]],\n",
      "\n",
      "        [[3.],\n",
      "         [4.]]])\n"
     ]
    }
   ],
   "source": [
    "x=torch.FloatTensor([[1,2],[3,4]])\n",
    "print(x)\n",
    "print(x.size()) # -> [2,2] 기본인 상태\n",
    "print(x.unsqueeze(2)) # -> [2,2,1] 로 만들어지게된다\n",
    "print(x.unsqueeze(1)) # -> [2,1,2] 로 만들어지게된다\n",
    "print(x.unsqueeze(-1)) # -> [2,2,1] 로 만들어지게된다\n",
    "print(x.reshape(2,2,1)) # -> [2,2,1]"
   ]
  },
  {
   "cell_type": "code",
   "execution_count": 62,
   "metadata": {},
   "outputs": [
    {
     "name": "stdout",
     "output_type": "stream",
     "text": [
      "tensor([[[ 1.,  2.],\n",
      "         [ 3.,  4.]],\n",
      "\n",
      "        [[ 5.,  6.],\n",
      "         [ 7.,  8.]],\n",
      "\n",
      "        [[ 9., 10.],\n",
      "         [11., 12.]]])\n"
     ]
    }
   ],
   "source": [
    "x=y.view(3,2,-1)\n",
    "print(x)"
   ]
  },
  {
   "cell_type": "code",
   "execution_count": 63,
   "metadata": {},
   "outputs": [
    {
     "name": "stdout",
     "output_type": "stream",
     "text": [
      "torch.Size([3, 2, 2])\n"
     ]
    }
   ],
   "source": [
    "x=torch.FloatTensor([[[1,2],[3,4]],[[5,6],[7,8]],[[9,10],[11,12]]])\n",
    "print(x.size())"
   ]
  },
  {
   "cell_type": "code",
   "execution_count": 64,
   "metadata": {},
   "outputs": [
    {
     "name": "stdout",
     "output_type": "stream",
     "text": [
      "tensor([[33, 15, 24, 39],\n",
      "        [35, 26, 20, 23],\n",
      "        [ 6, 25, 28,  5],\n",
      "        [ 2, 12, 37,  9],\n",
      "        [22, 32, 16, 34],\n",
      "        [ 4, 13, 11, 18],\n",
      "        [ 3,  8, 38, 14],\n",
      "        [27, 17, 29,  7],\n",
      "        [36, 10, 21,  1],\n",
      "        [ 0, 19, 31, 30]])\n",
      "torch.Size([10, 4])\n",
      "torch.Size([4, 4])\n",
      "torch.Size([4, 4])\n",
      "torch.Size([2, 4])\n"
     ]
    }
   ],
   "source": [
    "x=torch.randperm(40)\n",
    "x=x.view(10,-1)\n",
    "print(x)\n",
    "print(x.size())\n",
    "split=x.split(4, dim=0) # 자르기 할 데이터의 크기\n",
    "for s in split:\n",
    "    print(s.size())\n"
   ]
  },
  {
   "cell_type": "code",
   "execution_count": 65,
   "metadata": {},
   "outputs": [
    {
     "name": "stdout",
     "output_type": "stream",
     "text": [
      "(tensor([[33, 15, 24, 39],\n",
      "        [35, 26, 20, 23],\n",
      "        [ 6, 25, 28,  5],\n",
      "        [ 2, 12, 37,  9],\n",
      "        [22, 32, 16, 34]]), tensor([[ 4, 13, 11, 18],\n",
      "        [ 3,  8, 38, 14],\n",
      "        [27, 17, 29,  7],\n",
      "        [36, 10, 21,  1],\n",
      "        [ 0, 19, 31, 30]]))\n",
      "torch.Size([5, 4])\n",
      "torch.Size([5, 4])\n"
     ]
    }
   ],
   "source": [
    "chunks=x.chunk(2, dim=0) #블록의 갯수\n",
    "print(chunks)\n",
    "for c in chunks:\n",
    "    print(c.size())"
   ]
  },
  {
   "cell_type": "code",
   "execution_count": 66,
   "metadata": {},
   "outputs": [
    {
     "name": "stdout",
     "output_type": "stream",
     "text": [
      "tensor([[[1., 1.],\n",
      "         [2., 2.]],\n",
      "\n",
      "        [[3., 3.],\n",
      "         [4., 4.]],\n",
      "\n",
      "        [[5., 5.],\n",
      "         [6., 6.]]])\n",
      "torch.Size([3, 2, 2])\n"
     ]
    }
   ],
   "source": [
    "x=torch.FloatTensor([[[1,1],[2,2]],[[3,3],[4,4]],[[5,5],[6,6]]])\n",
    "print(x)\n",
    "print(x.size())"
   ]
  },
  {
   "cell_type": "code",
   "execution_count": 67,
   "metadata": {},
   "outputs": [
    {
     "name": "stdout",
     "output_type": "stream",
     "text": [
      "tensor([[[5., 5.],\n",
      "         [6., 6.]],\n",
      "\n",
      "        [[3., 3.],\n",
      "         [4., 4.]]])\n"
     ]
    }
   ],
   "source": [
    "indice=torch.LongTensor([2,1])\n",
    "\n",
    "y=x.index_select(dim=0, index=indice)\n",
    "print(y)"
   ]
  },
  {
   "cell_type": "code",
   "execution_count": 68,
   "metadata": {},
   "outputs": [
    {
     "name": "stdout",
     "output_type": "stream",
     "text": [
      "torch.Size([3, 3]) torch.Size([3, 3])\n"
     ]
    }
   ],
   "source": [
    "x=torch.FloatTensor([[1,2,3],[4,5,6],[7,8,9]])\n",
    "y=torch.FloatTensor([[11,12,13],[14,15,16],[17,18,19]])\n",
    "\n",
    "print(x.size(), y.size())\n"
   ]
  },
  {
   "cell_type": "code",
   "execution_count": 69,
   "metadata": {},
   "outputs": [
    {
     "name": "stdout",
     "output_type": "stream",
     "text": [
      "tensor([[ 1.,  2.,  3.],\n",
      "        [ 4.,  5.,  6.],\n",
      "        [ 7.,  8.,  9.],\n",
      "        [11., 12., 13.],\n",
      "        [14., 15., 16.],\n",
      "        [17., 18., 19.]])\n",
      "torch.Size([6, 3])\n"
     ]
    }
   ],
   "source": [
    "z =torch.cat([x, y], dim=0)\n",
    "print(z)\n",
    "print(z.size())"
   ]
  },
  {
   "cell_type": "code",
   "execution_count": 70,
   "metadata": {},
   "outputs": [
    {
     "name": "stdout",
     "output_type": "stream",
     "text": [
      "tensor([[ 1.,  2.,  3., 11., 12., 13.],\n",
      "        [ 4.,  5.,  6., 14., 15., 16.],\n",
      "        [ 7.,  8.,  9., 17., 18., 19.]])\n",
      "torch.Size([3, 6])\n"
     ]
    }
   ],
   "source": [
    "z = torch.cat([x, y], dim=\n",
    "1)\n",
    "print(z)\n",
    "print(z.size())"
   ]
  },
  {
   "cell_type": "code",
   "execution_count": 71,
   "metadata": {},
   "outputs": [],
   "source": [
    "x=torch.FloatTensor([[1,2,3],[4,5,6],[7,8,9]])\n",
    "y=torch.FloatTensor([[11,12,13],[14,15,16],[17,18,19]])"
   ]
  },
  {
   "cell_type": "code",
   "execution_count": 72,
   "metadata": {},
   "outputs": [
    {
     "name": "stdout",
     "output_type": "stream",
     "text": [
      "tensor([[[ 1,  2,  3,  4],\n",
      "         [ 1,  2,  3,  4]],\n",
      "\n",
      "        [[ 5,  6,  7,  8],\n",
      "         [ 5,  6,  7,  8]],\n",
      "\n",
      "        [[ 9, 10, 11, 12],\n",
      "         [ 9, 10, 11, 12]]], dtype=torch.int32)\n"
     ]
    }
   ],
   "source": [
    "# expand() 차원이 1인 것을 크기 늘려 줌\n",
    "a=np.arange(1, 13)\n",
    "x=torch.from_numpy(a).view(3,1,4)\n",
    "y=x.expand(3,2,4)\n",
    "print(y)"
   ]
  },
  {
   "cell_type": "code",
   "execution_count": 73,
   "metadata": {},
   "outputs": [
    {
     "data": {
      "text/plain": [
       "tensor([[[ 1,  2,  3,  4],\n",
       "         [ 1,  2,  3,  4],\n",
       "         [ 1,  2,  3,  4]],\n",
       "\n",
       "        [[ 5,  6,  7,  8],\n",
       "         [ 5,  6,  7,  8],\n",
       "         [ 5,  6,  7,  8]],\n",
       "\n",
       "        [[ 9, 10, 11, 12],\n",
       "         [ 9, 10, 11, 12],\n",
       "         [ 9, 10, 11, 12]]], dtype=torch.int32)"
      ]
     },
     "execution_count": 73,
     "metadata": {},
     "output_type": "execute_result"
    }
   ],
   "source": [
    "y2=torch.cat([x]*3, dim=1) #[0,1,2]\n",
    "y2"
   ]
  },
  {
   "cell_type": "code",
   "execution_count": 74,
   "metadata": {},
   "outputs": [
    {
     "name": "stdout",
     "output_type": "stream",
     "text": [
      "tensor([0, 8, 7, 2, 4, 5, 1, 9, 3, 6])\n",
      "tensor([1, 4, 8, 2, 6, 9, 7, 3, 0, 5])\n",
      "tensor([ 9, 23, 11, 29, 31,  4, 14, 22, 13, 21, 28, 10,  8, 26,  7, 19,  0, 16,\n",
      "         6, 27, 25,  5, 24, 15,  2, 20,  1, 18, 17, 12,  3, 30])\n"
     ]
    }
   ],
   "source": [
    "x=torch.randperm(10) #0 ~ n-1 까지\n",
    "x2=torch.randperm(2*5) #0 ~ n-1 까지\n",
    "x3=torch.randperm(2**5) #0 ~ n-1 까지\n",
    "print(x)\n",
    "print(x2)\n",
    "print(x3)"
   ]
  },
  {
   "cell_type": "code",
   "execution_count": 75,
   "metadata": {},
   "outputs": [
    {
     "name": "stdout",
     "output_type": "stream",
     "text": [
      "tensor([[[ 9, 23, 17],\n",
      "         [ 5, 26,  6],\n",
      "         [20, 15,  8]],\n",
      "\n",
      "        [[ 2,  0, 22],\n",
      "         [ 3, 13, 11],\n",
      "         [ 1, 10, 24]],\n",
      "\n",
      "        [[ 7, 16,  4],\n",
      "         [12, 18, 21],\n",
      "         [14, 25, 19]]])\n"
     ]
    }
   ],
   "source": [
    "x=torch.randperm(27).view(3,3,-1)\n",
    "print(x)"
   ]
  },
  {
   "cell_type": "code",
   "execution_count": 76,
   "metadata": {},
   "outputs": [
    {
     "name": "stdout",
     "output_type": "stream",
     "text": [
      "tensor([[0, 0, 1],\n",
      "        [2, 0, 2],\n",
      "        [0, 2, 1]])\n",
      "tensor([[2, 1, 0],\n",
      "        [1, 1, 2],\n",
      "        [2, 2, 1]])\n"
     ]
    }
   ],
   "source": [
    "y=x.argmax(dim=0)\n",
    "y1=x.argmax(dim=1)\n",
    "print(y)\n",
    "print(y1)"
   ]
  },
  {
   "cell_type": "code",
   "execution_count": 77,
   "metadata": {},
   "outputs": [
    {
     "name": "stdout",
     "output_type": "stream",
     "text": [
      "tensor([[[23],\n",
      "         [26],\n",
      "         [20]],\n",
      "\n",
      "        [[22],\n",
      "         [13],\n",
      "         [24]],\n",
      "\n",
      "        [[16],\n",
      "         [21],\n",
      "         [25]]])\n",
      "torch.Size([3, 3, 1])\n",
      "tensor([[[1],\n",
      "         [1],\n",
      "         [0]],\n",
      "\n",
      "        [[2],\n",
      "         [1],\n",
      "         [2]],\n",
      "\n",
      "        [[1],\n",
      "         [2],\n",
      "         [1]]])\n",
      "torch.Size([3, 3, 1])\n"
     ]
    }
   ],
   "source": [
    "values,indices=torch.topk(x,k=1, dim=-1)\n",
    "print(values)\n",
    "print(values.size())\n",
    "print(indices)\n",
    "print(indices.size())"
   ]
  },
  {
   "cell_type": "code",
   "execution_count": 78,
   "metadata": {},
   "outputs": [
    {
     "name": "stdout",
     "output_type": "stream",
     "text": [
      "tensor([[[23, 17],\n",
      "         [26,  6],\n",
      "         [20, 15]],\n",
      "\n",
      "        [[22,  2],\n",
      "         [13, 11],\n",
      "         [24, 10]],\n",
      "\n",
      "        [[16,  7],\n",
      "         [21, 18],\n",
      "         [25, 19]]])\n",
      "torch.Size([3, 3, 2])\n",
      "tensor([[[1, 2],\n",
      "         [1, 2],\n",
      "         [0, 1]],\n",
      "\n",
      "        [[2, 0],\n",
      "         [1, 2],\n",
      "         [2, 1]],\n",
      "\n",
      "        [[1, 0],\n",
      "         [2, 1],\n",
      "         [1, 2]]])\n",
      "torch.Size([3, 3, 2])\n"
     ]
    }
   ],
   "source": [
    "values,indices=torch.topk(x,k=2, dim=-1)\n",
    "print(values)\n",
    "print(values.size())\n",
    "print(indices)\n",
    "print(indices.size())"
   ]
  },
  {
   "cell_type": "code",
   "execution_count": 79,
   "metadata": {},
   "outputs": [
    {
     "name": "stdout",
     "output_type": "stream",
     "text": [
      "tensor([[1., 2., 3.],\n",
      "        [4., 5., 6.],\n",
      "        [7., 8., 9.]])\n",
      "tensor([[False, False, False],\n",
      "        [False,  True,  True],\n",
      "        [ True,  True,  True]])\n",
      "tensor([[  1.,   2.,   3.],\n",
      "        [  4., 100., 100.],\n",
      "        [100., 100., 100.]])\n"
     ]
    }
   ],
   "source": [
    "x=torch.FloatTensor([i+1 for i in range(3**2)]).view(3,-1)\n",
    "print(x)\n",
    "mask=x>4\n",
    "print(mask)\n",
    "y=x.masked_fill(mask, value=100)\n",
    "print(y)"
   ]
  },
  {
   "cell_type": "code",
   "execution_count": 80,
   "metadata": {},
   "outputs": [
    {
     "name": "stdout",
     "output_type": "stream",
     "text": [
      "tensor([[1., 1., 1.],\n",
      "        [1., 1., 1.]])\n",
      "tensor([[0., 0., 0.],\n",
      "        [0., 0., 0.]])\n",
      "tensor([[1., 1., 1.],\n",
      "        [1., 1., 1.],\n",
      "        [1., 1., 1.]])\n",
      "tensor([[0., 0., 0.],\n",
      "        [0., 0., 0.],\n",
      "        [0., 0., 0.]])\n"
     ]
    }
   ],
   "source": [
    "print(torch.ones(2,3))\n",
    "print(torch.zeros(2,3))\n",
    "\n",
    "print(torch.ones_like(x)) # x 크기만큼 1을 넣겠다\n",
    "print(torch.zeros_like(x)) # x 크기만큼 0을 넣겠다"
   ]
  }
 ],
 "metadata": {
  "kernelspec": {
   "display_name": "base",
   "language": "python",
   "name": "python3"
  },
  "language_info": {
   "codemirror_mode": {
    "name": "ipython",
    "version": 3
   },
   "file_extension": ".py",
   "mimetype": "text/x-python",
   "name": "python",
   "nbconvert_exporter": "python",
   "pygments_lexer": "ipython3",
   "version": "3.10.9"
  },
  "orig_nbformat": 4
 },
 "nbformat": 4,
 "nbformat_minor": 2
}
