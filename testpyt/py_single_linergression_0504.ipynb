{
 "cells": [
  {
   "cell_type": "code",
   "execution_count": 1,
   "metadata": {},
   "outputs": [],
   "source": [
    "import numpy as np"
   ]
  },
  {
   "cell_type": "code",
   "execution_count": 9,
   "metadata": {},
   "outputs": [],
   "source": [
    "x_data=np.array([1,2,3,4,5]).reshape(5,1)\n",
    "t_data=np.array([3,5,7,9,11]).reshape(5,1) # y=2x+1"
   ]
  },
  {
   "cell_type": "code",
   "execution_count": 3,
   "metadata": {},
   "outputs": [
    {
     "name": "stdout",
     "output_type": "stream",
     "text": [
      "[[0.90163883]] [0.17045863]\n"
     ]
    }
   ],
   "source": [
    "w=np.random.rand(1,1)\n",
    "b=np.random.rand(1)\n",
    "print(w,b)"
   ]
  },
  {
   "cell_type": "code",
   "execution_count": 6,
   "metadata": {},
   "outputs": [],
   "source": [
    "#손실 함수 만들기\n",
    "def loss_func(x, t):\n",
    "    y=np.dot(x, w)+b # y=XW+b\n",
    "    return (np.sum((t-y)**2))/len(x) #MSE(에러의 평균을 제곱한것의 합)"
   ]
  },
  {
   "cell_type": "code",
   "execution_count": 7,
   "metadata": {},
   "outputs": [],
   "source": [
    "def mul_numerical_derivative(f, x):\n",
    "    delta_x=1e-4\n",
    "    grad=np.zeros_like(x) # 미분결과 값 저장 배열\n",
    "\n",
    "    it=np.nditer(x, flags=['multi_index'], op_flags=['readwrite'])\n",
    "    while not it.finished:\n",
    "        idx=it.multi_index\n",
    "\n",
    "        tmp_val=x[idx]\n",
    "        x[idx]=float(tmp_val)+delta_x\n",
    "        fx1=f(x)\n",
    "        x[idx]=tmp_val-delta_x\n",
    "        fx2=f(x)\n",
    "        grad[idx]=(fx1-fx2)/(2*delta_x)\n",
    "\n",
    "        x[idx]=tmp_val\n",
    "        it.iternext()\n",
    "    return grad "
   ]
  },
  {
   "cell_type": "code",
   "execution_count": 8,
   "metadata": {},
   "outputs": [],
   "source": [
    "def predict(x):\n",
    "    y=np.dot(x,w)+b\n",
    "    return y"
   ]
  },
  {
   "cell_type": "code",
   "execution_count": 11,
   "metadata": {},
   "outputs": [
    {
     "name": "stdout",
     "output_type": "stream",
     "text": [
      "Initial error value= 19.425325059899546 w= [[0.90163883]] b= [0.17045863]\n",
      "step 0 error value 11.448988101845439 w= [[1.19305077]] b= [0.23546641]\n",
      "step 400 error value 0.003600894695011884 w= [[2.03896745]] b= [0.85934959]\n",
      "step 800 error value 0.00022975836993322594 w= [[2.00984311]] b= [0.96447194]\n",
      "step 1200 error value 1.4659942326983845e-05 w= [[2.00248635]] b= [0.99102567]\n",
      "step 1600 error value 9.353909896417116e-07 w= [[2.00062805]] b= [0.9977331]\n",
      "step 2000 error value 5.96834751452091e-08 w= [[2.00015864]] b= [0.99942738]\n",
      "step 2400 error value 3.808158561298398e-09 w= [[2.00004007]] b= [0.99985536]\n",
      "step 2800 error value 2.429830299355172e-10 w= [[2.00001012]] b= [0.99996346]\n",
      "step 3200 error value 1.5503753816874094e-11 w= [[2.00000256]] b= [0.99999077]\n",
      "step 3600 error value 9.892311504761916e-13 w= [[2.00000065]] b= [0.99999767]\n",
      "step 4000 error value 6.311879532739235e-14 w= [[2.00000016]] b= [0.99999941]\n",
      "step 4400 error value 4.0273522631209245e-15 w= [[2.00000004]] b= [0.99999985]\n",
      "step 4800 error value 2.5696888210237453e-16 w= [[2.00000001]] b= [0.99999996]\n",
      "step 5200 error value 1.6396128862596027e-17 w= [[2.]] b= [0.99999999]\n",
      "step 5600 error value 1.0461691936626966e-18 w= [[2.]] b= [1.]\n",
      "step 6000 error value 6.675153141833037e-20 w= [[2.]] b= [1.]\n",
      "step 6400 error value 4.259144463330777e-21 w= [[2.]] b= [1.]\n",
      "step 6800 error value 2.717378603678186e-22 w= [[2.]] b= [1.]\n",
      "step 7200 error value 1.7345797016970748e-23 w= [[2.]] b= [1.]\n",
      "step 7600 error value 1.1082107323162027e-24 w= [[2.]] b= [1.]\n"
     ]
    }
   ],
   "source": [
    "learning_rate=1e-2\n",
    "\n",
    "f=lambda x:loss_func(x_data, t_data)\n",
    "print(\"Initial error value=\", loss_func(x_data, t_data), 'w=',w, 'b=',b)\n",
    "\n",
    "for step in range(8000):\n",
    "    w-=learning_rate*mul_numerical_derivative(f, w)\n",
    "    b-=learning_rate*mul_numerical_derivative(f, b)\n",
    "    if step%400==0:\n",
    "        print(\"step\", step, \"error value\", loss_func(x_data, t_data), \"w=\", w, 'b=',b)"
   ]
  },
  {
   "cell_type": "code",
   "execution_count": 12,
   "metadata": {},
   "outputs": [
    {
     "data": {
      "text/plain": [
       "array([[23.]])"
      ]
     },
     "execution_count": 12,
     "metadata": {},
     "output_type": "execute_result"
    }
   ],
   "source": [
    "predict(11)"
   ]
  }
 ],
 "metadata": {
  "kernelspec": {
   "display_name": "base",
   "language": "python",
   "name": "python3"
  },
  "language_info": {
   "codemirror_mode": {
    "name": "ipython",
    "version": 3
   },
   "file_extension": ".py",
   "mimetype": "text/x-python",
   "name": "python",
   "nbconvert_exporter": "python",
   "pygments_lexer": "ipython3",
   "version": "3.10.9"
  },
  "orig_nbformat": 4
 },
 "nbformat": 4,
 "nbformat_minor": 2
}
