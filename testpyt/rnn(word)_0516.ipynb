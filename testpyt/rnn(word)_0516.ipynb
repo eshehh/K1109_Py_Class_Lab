{
 "cells": [
  {
   "cell_type": "code",
   "execution_count": 33,
   "metadata": {},
   "outputs": [],
   "source": [
    "import torch\n",
    "import torch.nn as nn\n",
    "import torch.optim as optim\n",
    "import numpy as np"
   ]
  },
  {
   "cell_type": "code",
   "execution_count": 34,
   "metadata": {},
   "outputs": [
    {
     "name": "stdout",
     "output_type": "stream",
     "text": [
      "['memory', 'medicine', 'is', 'for', 'best', 'Repeat', 'the']\n"
     ]
    }
   ],
   "source": [
    "sentence = \"Repeat is the best medicine for memory\".split()\n",
    "vocab = list(set(sentence))\n",
    "print(vocab)"
   ]
  },
  {
   "cell_type": "code",
   "execution_count": 35,
   "metadata": {},
   "outputs": [
    {
     "name": "stdout",
     "output_type": "stream",
     "text": [
      "{'memory': 1, 'medicine': 2, 'is': 3, 'for': 4, 'best': 5, 'Repeat': 6, 'the': 7, '<unk>': 0}\n"
     ]
    }
   ],
   "source": [
    "word2index={tkn:i for i, tkn in enumerate(vocab,1)}\n",
    "word2index['<unk>']=0\n",
    "print(word2index)"
   ]
  },
  {
   "cell_type": "code",
   "execution_count": 36,
   "metadata": {},
   "outputs": [
    {
     "name": "stdout",
     "output_type": "stream",
     "text": [
      "1\n"
     ]
    }
   ],
   "source": [
    "print(word2index['memory'])"
   ]
  },
  {
   "cell_type": "code",
   "execution_count": 37,
   "metadata": {},
   "outputs": [
    {
     "name": "stdout",
     "output_type": "stream",
     "text": [
      "4\n"
     ]
    }
   ],
   "source": [
    "print(word2index['for'])"
   ]
  },
  {
   "cell_type": "code",
   "execution_count": 38,
   "metadata": {},
   "outputs": [
    {
     "name": "stdout",
     "output_type": "stream",
     "text": [
      "{1: 'memory', 2: 'medicine', 3: 'is', 4: 'for', 5: 'best', 6: 'Repeat', 7: 'the', 0: '<unk>'}\n",
      "memory\n"
     ]
    }
   ],
   "source": [
    "index2word={v:k for k,v in word2index.items()}\n",
    "print(index2word)\n",
    "print(index2word[1])"
   ]
  },
  {
   "cell_type": "code",
   "execution_count": 39,
   "metadata": {},
   "outputs": [],
   "source": [
    "def build_data(sentence, word2index):\n",
    "    encoded=[word2index[token] for token in sentence]\n",
    "    # print(encoded)\n",
    "    input_seq, label_seq = encoded[:-1] , encoded[1:] # [:-1] 맨마지막까지, [1:] 첫번째부터\n",
    "    # print(input_seq)\n",
    "    # print(label_seq)\n",
    "    input_seq=torch.LongTensor(input_seq).unsqueeze(0) # 차원 하나 추가\n",
    "    label_seq=torch.LongTensor(label_seq).unsqueeze(0)\n",
    "    return input_seq, label_seq"
   ]
  },
  {
   "cell_type": "code",
   "execution_count": 40,
   "metadata": {},
   "outputs": [],
   "source": [
    "X, Y=build_data(sentence, word2index)"
   ]
  },
  {
   "cell_type": "code",
   "execution_count": 41,
   "metadata": {},
   "outputs": [
    {
     "name": "stdout",
     "output_type": "stream",
     "text": [
      "tensor([[6, 3, 7, 5, 2, 4]])\n",
      "tensor([[3, 7, 5, 2, 4, 1]])\n"
     ]
    }
   ],
   "source": [
    "print(X)\n",
    "print(Y)"
   ]
  },
  {
   "cell_type": "code",
   "execution_count": 42,
   "metadata": {},
   "outputs": [],
   "source": [
    "class Net(nn.Module):\n",
    "    def __init__(self, vocab_size, input_size, hidden_size):\n",
    "        super(Net, self).__init__()\n",
    "        self.embedding_layer=nn.Embedding(num_embeddings=vocab_size,\n",
    "                                          embedding_dim=input_size)\n",
    "        self.rnn_layer=nn.RNN(input_size, hidden_size, batch_first=True)\n",
    "        self.linear=nn.Linear(hidden_size, vocab_size)\n",
    "    \n",
    "    def forward(self, x):\n",
    "        # 1. 임베딩 층\n",
    "        # 크기변화: (배치크기, 시퀀스 길이, 임베딩 차원)\n",
    "        output=self.embedding_layer(x)\n",
    "        # 2. RNN 층\n",
    "        # 크기변화 : (배치크기, 시퀀스 길이, 임베팅 차원)\n",
    "        # => output (배치 크기, 시퀀스 길이, 은닉층 크기), hidden (1, 배치크기, 은닉층 크기)\n",
    "        output, hidden=self.rnn_layer(output)\n",
    "        # 3. 최종 출력층\n",
    "        # 크기변화: (배치크기, 시퀀스 길이, 은닉층 크기) => (배치크기, 시퀀스 길이, 단어장 크기)\n",
    "        output=self.linear(output)\n",
    "        # 4. view를 통해서 배치 차원 제거\n",
    "        # 크기변화 : (배치 크기, 시퀀스 길이, 단어장 크기) => (배치크기*시퀀스 길이, 단어장 크기)\n",
    "        return output.view(-1, output.size(2))"
   ]
  },
  {
   "cell_type": "code",
   "execution_count": 43,
   "metadata": {},
   "outputs": [],
   "source": [
    "vocab_size=len(word2index)\n",
    "input_size=5\n",
    "hidden_size=20"
   ]
  },
  {
   "cell_type": "code",
   "execution_count": 44,
   "metadata": {},
   "outputs": [],
   "source": [
    "model=Net(vocab_size, input_size, hidden_size)\n",
    "loss_function=nn.CrossEntropyLoss()\n",
    "optimizer=optim.Adam(params=model.parameters())"
   ]
  },
  {
   "cell_type": "code",
   "execution_count": 45,
   "metadata": {},
   "outputs": [
    {
     "name": "stdout",
     "output_type": "stream",
     "text": [
      "tensor([[-0.1709, -0.0914, -0.2755, -0.1728,  0.5151, -0.0241,  0.2234, -0.0221],\n",
      "        [-0.2367,  0.0046, -0.2177, -0.1032,  0.5179,  0.0145,  0.3204, -0.3410],\n",
      "        [-0.1684,  0.1926, -0.4853, -0.1542,  0.3133, -0.0503,  0.2816, -0.2540],\n",
      "        [-0.1452, -0.0495, -0.2307, -0.1508,  0.3616,  0.1729,  0.1890, -0.1250],\n",
      "        [-0.0276,  0.0911, -0.5461, -0.0565, -0.3087, -0.4496, -0.0253, -0.5625],\n",
      "        [-0.1683, -0.2321, -0.3446, -0.0212,  0.3580, -0.0806,  0.1952,  0.1104]],\n",
      "       grad_fn=<ViewBackward0>)\n"
     ]
    }
   ],
   "source": [
    "output=model(X)\n",
    "print(output)"
   ]
  },
  {
   "cell_type": "code",
   "execution_count": 46,
   "metadata": {},
   "outputs": [
    {
     "name": "stdout",
     "output_type": "stream",
     "text": [
      "<function <lambda> at 0x000001EFE38BB9A0>\n"
     ]
    }
   ],
   "source": [
    "decoded=lambda y: [index2word.get(x) for x in y]\n",
    "print(decoded)"
   ]
  },
  {
   "cell_type": "code",
   "execution_count": 47,
   "metadata": {},
   "outputs": [
    {
     "name": "stdout",
     "output_type": "stream",
     "text": [
      "step: 0 loss: 2.281268835067749\n",
      "Repeat for for for for memory for\n",
      "\n",
      "step: 40 loss: 1.6887378692626953\n",
      "Repeat for for best medicine for memory\n",
      "\n",
      "step: 80 loss: 1.0410583019256592\n",
      "Repeat is the best medicine for memory\n",
      "\n",
      "step: 120 loss: 0.5746766924858093\n",
      "Repeat is the best medicine for memory\n",
      "\n",
      "step: 160 loss: 0.31949421763420105\n",
      "Repeat is the best medicine for memory\n",
      "\n",
      "step: 200 loss: 0.1859656423330307\n",
      "Repeat is the best medicine for memory\n",
      "\n"
     ]
    }
   ],
   "source": [
    "for step in range(201):\n",
    "    optimizer.zero_grad()\n",
    "    outputs=model(X)\n",
    "    loss=loss_function(outputs, Y.view(-1))\n",
    "\n",
    "    loss.backward()\n",
    "    optimizer.step()\n",
    "\n",
    "    if step % 40 ==0:\n",
    "        print(\"step:\", step, \"loss:\", loss.item())\n",
    "        pred=outputs.softmax(-1).argmax(-1).tolist()\n",
    "        print(\" \".join(['Repeat']+decoded(pred)))\n",
    "        print()"
   ]
  }
 ],
 "metadata": {
  "kernelspec": {
   "display_name": "base",
   "language": "python",
   "name": "python3"
  },
  "language_info": {
   "codemirror_mode": {
    "name": "ipython",
    "version": 3
   },
   "file_extension": ".py",
   "mimetype": "text/x-python",
   "name": "python",
   "nbconvert_exporter": "python",
   "pygments_lexer": "ipython3",
   "version": "3.10.9"
  },
  "orig_nbformat": 4
 },
 "nbformat": 4,
 "nbformat_minor": 2
}
