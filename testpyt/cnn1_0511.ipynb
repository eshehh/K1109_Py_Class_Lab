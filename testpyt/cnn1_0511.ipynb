{
 "cells": [
  {
   "attachments": {},
   "cell_type": "markdown",
   "metadata": {},
   "source": [
    "# 1번 레이어 : 합성곱층(Convolutional layer)\n",
    "합성곱(in_channel = 1, out_channel = 32, kernel_size= 3, stride = 1, padding = 1) + 활성화 함수 ReLU\n",
    "맥스플링(kernel_size= 2, stride=2)\n",
    "\n",
    "# 2번 레이어 : 합성곱층(Convolutional layer)\n",
    "합성곱(in_channel = 32, out_channel = 64, kernel_size= 3, stride = 1, padding = 1) + 활성화 함수 ReLU\n",
    "맥스플링(kernel_size= 2, stride=2)\n",
    "\n",
    "# 3번 레이어 : 전결합층(Fully-Connected layer)\n",
    "특성맵을 펼친다. # batch_size x 7 x 7 x 64 -> batch_size x 3136\n",
    "전결합층(뉴런 10개) + 활성화 함수 Softmax"
   ]
  },
  {
   "cell_type": "code",
   "execution_count": 1,
   "metadata": {},
   "outputs": [],
   "source": [
    "import torch\n",
    "import torch.nn as nn"
   ]
  },
  {
   "cell_type": "code",
   "execution_count": 9,
   "metadata": {},
   "outputs": [
    {
     "name": "stdout",
     "output_type": "stream",
     "text": [
      "torch.Size([1, 1, 28, 28])\n"
     ]
    }
   ],
   "source": [
    "inputs = torch.Tensor(1, 1, 28, 28)\n",
    "print(inputs.size())"
   ]
  },
  {
   "cell_type": "code",
   "execution_count": 4,
   "metadata": {},
   "outputs": [
    {
     "name": "stdout",
     "output_type": "stream",
     "text": [
      "Conv2d(1, 32, kernel_size=(3, 3), stride=(1, 1), padding=(1, 1))\n"
     ]
    }
   ],
   "source": [
    "conv1=nn.Conv2d(1, 32, 3, padding=1)\n",
    "print(conv1)"
   ]
  },
  {
   "cell_type": "code",
   "execution_count": 5,
   "metadata": {},
   "outputs": [
    {
     "name": "stdout",
     "output_type": "stream",
     "text": [
      "Conv2d(32, 64, kernel_size=(3, 3), stride=(1, 1), padding=(1, 1))\n"
     ]
    }
   ],
   "source": [
    "conv2=nn.Conv2d(32, 64, kernel_size=3, padding=1)\n",
    "print(conv2)"
   ]
  },
  {
   "cell_type": "code",
   "execution_count": 6,
   "metadata": {},
   "outputs": [
    {
     "name": "stdout",
     "output_type": "stream",
     "text": [
      "MaxPool2d(kernel_size=2, stride=2, padding=0, dilation=1, ceil_mode=False)\n"
     ]
    }
   ],
   "source": [
    "pool=nn.MaxPool2d(2)\n",
    "print(pool)"
   ]
  },
  {
   "cell_type": "code",
   "execution_count": 8,
   "metadata": {},
   "outputs": [
    {
     "name": "stdout",
     "output_type": "stream",
     "text": [
      "torch.Size([1, 32, 28, 28])\n"
     ]
    }
   ],
   "source": [
    "out=conv1(inputs)\n",
    "print(out.size())"
   ]
  },
  {
   "cell_type": "code",
   "execution_count": 10,
   "metadata": {},
   "outputs": [
    {
     "name": "stdout",
     "output_type": "stream",
     "text": [
      "torch.Size([1, 32, 14, 14])\n"
     ]
    }
   ],
   "source": [
    "out=pool(out)\n",
    "print(out.size())"
   ]
  },
  {
   "cell_type": "code",
   "execution_count": 11,
   "metadata": {},
   "outputs": [
    {
     "name": "stdout",
     "output_type": "stream",
     "text": [
      "torch.Size([1, 64, 14, 14])\n"
     ]
    }
   ],
   "source": [
    "out=conv2(out)\n",
    "print(out.size())"
   ]
  },
  {
   "cell_type": "code",
   "execution_count": 12,
   "metadata": {},
   "outputs": [
    {
     "name": "stdout",
     "output_type": "stream",
     "text": [
      "torch.Size([1, 64, 7, 7])\n"
     ]
    }
   ],
   "source": [
    "out=pool(out)\n",
    "print(out.size())"
   ]
  },
  {
   "cell_type": "code",
   "execution_count": 13,
   "metadata": {},
   "outputs": [
    {
     "name": "stdout",
     "output_type": "stream",
     "text": [
      "torch.Size([1, 3136])\n"
     ]
    }
   ],
   "source": [
    "# 차원이 아주 크기 때문에 차원을 고쳐보자\n",
    "out=out.view(out.size(0),-1)\n",
    "print(out.size())"
   ]
  },
  {
   "cell_type": "code",
   "execution_count": 14,
   "metadata": {},
   "outputs": [
    {
     "name": "stdout",
     "output_type": "stream",
     "text": [
      "torch.Size([1, 10])\n"
     ]
    }
   ],
   "source": [
    "fc=nn.Linear(3136, 10)\n",
    "out=fc(out)\n",
    "print(out.size())"
   ]
  },
  {
   "cell_type": "code",
   "execution_count": 16,
   "metadata": {},
   "outputs": [],
   "source": [
    "import torch\n",
    "import torchvision.datasets as dsets\n",
    "import torchvision.transforms as transforms\n",
    "import torch.nn.init"
   ]
  },
  {
   "cell_type": "code",
   "execution_count": 17,
   "metadata": {},
   "outputs": [],
   "source": [
    "device = 'cuda' if torch.cuda.is_available() else 'cpu'\n",
    "#랜덤 시드 고정\n",
    "torch.manual_seed(777)\n",
    "#GPU 사용 가능일 경우 랜덤 시드 고정\n",
    "if device == 'cuda':\n",
    "    torch.cuda.manual_seed_all(777)"
   ]
  },
  {
   "cell_type": "code",
   "execution_count": 18,
   "metadata": {},
   "outputs": [],
   "source": [
    "learning_rate = 0.001\n",
    "training_epochs = 30\n",
    "batch_size = 100"
   ]
  },
  {
   "cell_type": "code",
   "execution_count": 19,
   "metadata": {},
   "outputs": [],
   "source": [
    "mnist_train=dsets.MNIST(root=\"MNIST_data/\", train=True, transform=transforms.ToTensor(), # 다운로드 경로 지정\n",
    "                        download=True) # True를 지정하념 훈련 데이터로 다운로드 , 텐서로 변환\n",
    "mnist_test=dsets.MNIST(root=\"MNIST_data/\", train=False, transform=transforms.ToTensor(), \n",
    "                        download=True)"
   ]
  },
  {
   "cell_type": "code",
   "execution_count": 21,
   "metadata": {},
   "outputs": [],
   "source": [
    "from torch.utils.data import DataLoader\n",
    "data_loader=DataLoader(dataset=mnist_train,batch_size=batch_size,shuffle=True, drop_last=True)"
   ]
  },
  {
   "cell_type": "code",
   "execution_count": 23,
   "metadata": {},
   "outputs": [],
   "source": [
    "class CNN(torch.nn.Module):\n",
    "    def __init__(self):\n",
    "        super().__init__()\n",
    "        # 1 layer image : (?, 28, 28, 1) , Conv : (?, 28, 28, 32), pool : (?, 14, 14. 32)\n",
    "        self.layer1=nn.Sequential(\n",
    "            nn.Conv2d(1, 32, kernel_size=3, stride=1, padding=1),\n",
    "            nn.ReLU(),\n",
    "            nn.MaxPool2d(kernel_size=2, stride=2)\n",
    "        )\n",
    "\n",
    "        # 2 layer image : (?, 14, 14, 32) , Conv : (?, 14, 14, 64), pool : (?, 7, 7. 64)\n",
    "        self.layer2=nn.Sequential(\n",
    "            nn.Conv2d(32, 64, kernel_size=3, stride=1, padding=1),\n",
    "            nn.ReLU(),\n",
    "            nn.MaxPool2d(kernel_size=2, stride=2)\n",
    "        )\n",
    "\n",
    "        self.fc=nn.Linear(7*7*64, 10 , bias=True) # 완전 연결층 7*7*64 -> 10\n",
    "\n",
    "        nn.init.xavier_uniform_(self.fc.weight) # 완전연결층 한정 가중치 초기화\n",
    "\n",
    "    def forward(self, x):\n",
    "        out=self.layer1(x)\n",
    "        out=self.layer2(out)\n",
    "        out=out.view(out.size(0), -1)\n",
    "        out=self.fc(out)\n",
    "        return(out)"
   ]
  },
  {
   "cell_type": "code",
   "execution_count": 24,
   "metadata": {},
   "outputs": [],
   "source": [
    "model=CNN().to(device)\n",
    "criterinon=nn.CrossEntropyLoss().to(device)\n",
    "optimizer=torch.optim.Adam(model.parameters(), lr=learning_rate)"
   ]
  },
  {
   "cell_type": "code",
   "execution_count": 25,
   "metadata": {},
   "outputs": [
    {
     "name": "stdout",
     "output_type": "stream",
     "text": [
      "총 배치 수:600\n"
     ]
    }
   ],
   "source": [
    "total_batch=len(data_loader)\n",
    "print(\"총 배치 수:{}\".format(total_batch))"
   ]
  },
  {
   "cell_type": "code",
   "execution_count": 26,
   "metadata": {},
   "outputs": [
    {
     "name": "stdout",
     "output_type": "stream",
     "text": [
      "Epoch:   1 cost=0.225634485\n",
      "Epoch:   2 cost=0.063048124\n",
      "Epoch:   3 cost=0.046261337\n",
      "Epoch:   4 cost=0.037375215\n",
      "Epoch:   5 cost=0.031302862\n",
      "Epoch:   6 cost=0.026022289\n",
      "Epoch:   7 cost=0.021658676\n",
      "Epoch:   8 cost=0.018033143\n",
      "Epoch:   9 cost=0.016198572\n",
      "Epoch:  10 cost=0.013169923\n",
      "Epoch:  11 cost=0.009722571\n",
      "Epoch:  12 cost=0.009766354\n",
      "Epoch:  13 cost=0.008609849\n",
      "Epoch:  14 cost=0.006950282\n",
      "Epoch:  15 cost=0.007148594\n",
      "Epoch:  16 cost=0.005402076\n",
      "Epoch:  17 cost=0.004118839\n",
      "Epoch:  18 cost=0.004830286\n",
      "Epoch:  19 cost=0.005046954\n",
      "Epoch:  20 cost=0.003640720\n",
      "Epoch:  21 cost=0.002884196\n",
      "Epoch:  22 cost=0.003938336\n",
      "Epoch:  23 cost=0.004305478\n",
      "Epoch:  24 cost=0.003056651\n",
      "Epoch:  25 cost=0.000949860\n",
      "Epoch:  26 cost=0.002693200\n",
      "Epoch:  27 cost=0.004433095\n",
      "Epoch:  28 cost=0.001017497\n",
      "Epoch:  29 cost=0.002444602\n",
      "Epoch:  30 cost=0.002188499\n"
     ]
    }
   ],
   "source": [
    "for epoch in range(training_epochs):\n",
    "    avg_cost=0\n",
    "\n",
    "    for X, Y in data_loader:\n",
    "        X=X.to(device)\n",
    "        Y=Y.to(device)\n",
    "\n",
    "        optimizer.zero_grad()\n",
    "        y_hat=model(X)\n",
    "        cost=criterinon(y_hat, Y)\n",
    "        cost.backward()\n",
    "        optimizer.step()\n",
    "\n",
    "        avg_cost +=cost/total_batch\n",
    "    print(\"Epoch:{:>4} cost={:>.9f}\".format(epoch+1, avg_cost))    "
   ]
  },
  {
   "cell_type": "code",
   "execution_count": 27,
   "metadata": {},
   "outputs": [
    {
     "name": "stderr",
     "output_type": "stream",
     "text": [
      "c:\\Users\\admin\\anaconda3\\lib\\site-packages\\torchvision\\datasets\\mnist.py:80: UserWarning: test_data has been renamed data\n",
      "  warnings.warn(\"test_data has been renamed data\")\n",
      "c:\\Users\\admin\\anaconda3\\lib\\site-packages\\torchvision\\datasets\\mnist.py:70: UserWarning: test_labels has been renamed targets\n",
      "  warnings.warn(\"test_labels has been renamed targets\")\n"
     ]
    },
    {
     "name": "stdout",
     "output_type": "stream",
     "text": [
      "Accuracy: 0.9857000112533569\n"
     ]
    }
   ],
   "source": [
    "with torch.no_grad():\n",
    "  X_test = mnist_test.test_data.view(len(mnist_test), 1, 28, 28).float().to(device)\n",
    "  Y_test = mnist_test.test_labels.to(device)\n",
    "\n",
    "  prediction = model(X_test)\n",
    "  correct_prediction = torch.argmax(prediction, 1) == Y_test\n",
    "  accuracy = correct_prediction.float().mean()\n",
    "  print('Accuracy:', accuracy.item())"
   ]
  },
  {
   "cell_type": "code",
   "execution_count": null,
   "metadata": {},
   "outputs": [],
   "source": [
    "mnist_train=dsets.CIFAR10(root=\"cifar10_data/\", train=True, transform=transforms.ToTensor(), # 다운로드 경로 지정\n",
    "                        download=True) # True를 지정하념 훈련 데이터로 다운로드 , 텐서로 변환\n",
    "mnist_test=dsets.CIFAR10(root=\"cifar10_data/\", train=False, transform=transforms.ToTensor(), \n",
    "                        download=True)"
   ]
  }
 ],
 "metadata": {
  "kernelspec": {
   "display_name": "base",
   "language": "python",
   "name": "python3"
  },
  "language_info": {
   "codemirror_mode": {
    "name": "ipython",
    "version": 3
   },
   "file_extension": ".py",
   "mimetype": "text/x-python",
   "name": "python",
   "nbconvert_exporter": "python",
   "pygments_lexer": "ipython3",
   "version": "3.10.9"
  },
  "orig_nbformat": 4
 },
 "nbformat": 4,
 "nbformat_minor": 2
}
