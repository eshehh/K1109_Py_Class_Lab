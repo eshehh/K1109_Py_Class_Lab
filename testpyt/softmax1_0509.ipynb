{
 "cells": [
  {
   "cell_type": "code",
   "execution_count": 1,
   "metadata": {},
   "outputs": [
    {
     "data": {
      "text/plain": [
       "<torch._C.Generator at 0x200260de170>"
      ]
     },
     "execution_count": 1,
     "metadata": {},
     "output_type": "execute_result"
    }
   ],
   "source": [
    "import torch\n",
    "import torch.nn.functional as F\n",
    "torch.manual_seed(1)"
   ]
  },
  {
   "cell_type": "code",
   "execution_count": 6,
   "metadata": {},
   "outputs": [
    {
     "name": "stdout",
     "output_type": "stream",
     "text": [
      "tensor([0.9362, 0.0466, 0.0171])\n",
      "tensor(1.)\n"
     ]
    }
   ],
   "source": [
    "z=torch.FloatTensor([5,2,1]) \n",
    "y=F.softmax(z, dim=0)\n",
    "print(y)\n",
    "print(y.sum())"
   ]
  },
  {
   "cell_type": "code",
   "execution_count": 21,
   "metadata": {},
   "outputs": [
    {
     "name": "stdout",
     "output_type": "stream",
     "text": [
      "tensor([[0.1849, 0.1710, 0.2070, 0.2455, 0.1916],\n",
      "        [0.2126, 0.2067, 0.1581, 0.2146, 0.2081],\n",
      "        [0.2197, 0.2268, 0.1367, 0.2639, 0.1528]], grad_fn=<SoftmaxBackward0>)\n",
      "tensor([1.0000, 1.0000, 1.0000], grad_fn=<SumBackward1>)\n"
     ]
    }
   ],
   "source": [
    "z=torch.rand(3,5, requires_grad=True)\n",
    "h=F.softmax(z, dim=1) #세로 dim=0, 가로 dim=1\n",
    "print(h)\n",
    "print(h.sum(dim=1))"
   ]
  },
  {
   "cell_type": "code",
   "execution_count": 26,
   "metadata": {},
   "outputs": [
    {
     "name": "stdout",
     "output_type": "stream",
     "text": [
      "tensor([4, 4, 0])\n",
      "tensor([[0., 0., 0., 0., 0.],\n",
      "        [0., 0., 0., 0., 0.],\n",
      "        [0., 0., 0., 0., 0.]])\n",
      "tensor([[0., 0., 0., 0., 1.],\n",
      "        [0., 0., 0., 0., 1.],\n",
      "        [1., 0., 0., 0., 0.]])\n"
     ]
    }
   ],
   "source": [
    "y=torch.randint(5,(3,)).long()\n",
    "print(y)\n",
    "y_one_hot=torch.zeros_like(h)\n",
    "print(y_one_hot)\n",
    "y_one_hot.scatter_(1, y.unsqueeze(1),1)\n",
    "print(y_one_hot)"
   ]
  },
  {
   "cell_type": "code",
   "execution_count": 27,
   "metadata": {},
   "outputs": [
    {
     "name": "stdout",
     "output_type": "stream",
     "text": [
      "tensor([[4],\n",
      "        [4],\n",
      "        [0]])\n"
     ]
    }
   ],
   "source": [
    "print(y.unsqueeze(1))"
   ]
  },
  {
   "cell_type": "code",
   "execution_count": 35,
   "metadata": {},
   "outputs": [
    {
     "name": "stdout",
     "output_type": "stream",
     "text": [
      "tensor(1.5792, grad_fn=<MeanBackward0>)\n",
      "tensor([[0.1581, 0.0801, 0.2709, 0.4418, 0.1935],\n",
      "        [0.6829, 0.6547, 0.3868, 0.6922, 0.6616],\n",
      "        [0.8053, 0.8367, 0.3307, 0.9885, 0.4422]], requires_grad=True)\n"
     ]
    }
   ],
   "source": [
    "cost=(y_one_hot*-torch.log(h)).sum(dim=1).mean()\n",
    "print(cost)\n",
    "print(z)"
   ]
  },
  {
   "cell_type": "code",
   "execution_count": 29,
   "metadata": {},
   "outputs": [
    {
     "data": {
      "text/plain": [
       "tensor([[-1.6880, -1.7659, -1.5752, -1.4043, -1.6525],\n",
       "        [-1.5484, -1.5766, -1.8446, -1.5392, -1.5698],\n",
       "        [-1.5153, -1.4838, -1.9899, -1.3320, -1.8784]], grad_fn=<LogBackward0>)"
      ]
     },
     "execution_count": 29,
     "metadata": {},
     "output_type": "execute_result"
    }
   ],
   "source": [
    "torch.log(F.softmax(z, dim=1)) # 아래와 동일"
   ]
  },
  {
   "cell_type": "code",
   "execution_count": 30,
   "metadata": {},
   "outputs": [
    {
     "data": {
      "text/plain": [
       "tensor([[-1.6880, -1.7659, -1.5752, -1.4043, -1.6525],\n",
       "        [-1.5484, -1.5766, -1.8446, -1.5392, -1.5698],\n",
       "        [-1.5153, -1.4838, -1.9899, -1.3320, -1.8784]],\n",
       "       grad_fn=<LogSoftmaxBackward0>)"
      ]
     },
     "execution_count": 30,
     "metadata": {},
     "output_type": "execute_result"
    }
   ],
   "source": [
    "F.log_softmax(z, dim=1) # 위와 동일"
   ]
  },
  {
   "cell_type": "code",
   "execution_count": 31,
   "metadata": {},
   "outputs": [
    {
     "data": {
      "text/plain": [
       "tensor(1.5792, grad_fn=<MeanBackward0>)"
      ]
     },
     "execution_count": 31,
     "metadata": {},
     "output_type": "execute_result"
    }
   ],
   "source": [
    "(y_one_hot*-torch.log(F.softmax(z, dim=1))).sum(dim=1).mean()"
   ]
  },
  {
   "cell_type": "code",
   "execution_count": 32,
   "metadata": {},
   "outputs": [
    {
     "data": {
      "text/plain": [
       "tensor(1.5792, grad_fn=<MeanBackward0>)"
      ]
     },
     "execution_count": 32,
     "metadata": {},
     "output_type": "execute_result"
    }
   ],
   "source": [
    "(y_one_hot*-F.log_softmax(z, dim=1)).sum(dim=1).mean()"
   ]
  },
  {
   "cell_type": "code",
   "execution_count": 33,
   "metadata": {},
   "outputs": [
    {
     "data": {
      "text/plain": [
       "tensor(1.5792, grad_fn=<NllLossBackward0>)"
      ]
     },
     "execution_count": 33,
     "metadata": {},
     "output_type": "execute_result"
    }
   ],
   "source": [
    "F.nll_loss(F.log_softmax(z, dim=1), y)"
   ]
  },
  {
   "cell_type": "code",
   "execution_count": 34,
   "metadata": {},
   "outputs": [
    {
     "data": {
      "text/plain": [
       "tensor(1.5792, grad_fn=<NllLossBackward0>)"
      ]
     },
     "execution_count": 34,
     "metadata": {},
     "output_type": "execute_result"
    }
   ],
   "source": [
    "F.cross_entropy(z, y) # 이것 포함 위의 3개 동일 "
   ]
  },
  {
   "cell_type": "code",
   "execution_count": 36,
   "metadata": {},
   "outputs": [],
   "source": [
    "\n",
    "import torch.nn as nn\n",
    "import torch.optim as optim"
   ]
  },
  {
   "cell_type": "code",
   "execution_count": 40,
   "metadata": {},
   "outputs": [
    {
     "name": "stdout",
     "output_type": "stream",
     "text": [
      "torch.Size([8, 4])\n",
      "torch.Size([8])\n"
     ]
    }
   ],
   "source": [
    "torch.manual_seed(1)\n",
    "x_train=[[1,2,1,3],\n",
    "         [2,1,3,2],\n",
    "         [3,1,3,4],\n",
    "         [4,1,5,5],\n",
    "         [1,7,5,5],\n",
    "         [1,2,5,6],\n",
    "         [1,6,6,6],\n",
    "         [1,7,7,7]]\n",
    "y_train= [2,2,2,1,1,1,0,0]\n",
    "x_train=torch.FloatTensor(x_train)\n",
    "y_train=torch.LongTensor(y_train)\n",
    "print(x_train.shape)\n",
    "print(y_train.shape)"
   ]
  },
  {
   "cell_type": "code",
   "execution_count": 52,
   "metadata": {},
   "outputs": [
    {
     "name": "stdout",
     "output_type": "stream",
     "text": [
      "tensor([4, 4, 0]) tensor([[0., 0., 1.],\n",
      "        [0., 0., 1.],\n",
      "        [0., 0., 1.],\n",
      "        [0., 1., 0.],\n",
      "        [0., 1., 0.],\n",
      "        [0., 1., 0.],\n",
      "        [1., 0., 0.],\n",
      "        [1., 0., 0.]])\n"
     ]
    }
   ],
   "source": [
    "# y_one_hot=torch.zeros_like(x_train)\n",
    "y_one_hot=torch.zeros(8,3)\n",
    "y_one_hot.scatter_(1,y_train.unsqueeze(1),1)\n",
    "print(y,y_one_hot)"
   ]
  },
  {
   "cell_type": "code",
   "execution_count": 53,
   "metadata": {},
   "outputs": [
    {
     "name": "stdout",
     "output_type": "stream",
     "text": [
      "tensor([[0., 0., 0.],\n",
      "        [0., 0., 0.],\n",
      "        [0., 0., 0.],\n",
      "        [0., 0., 0.]], requires_grad=True) tensor([[0., 0., 0.]], requires_grad=True)\n"
     ]
    }
   ],
   "source": [
    "# low_level\n",
    "W=torch.zeros((4,3), requires_grad=True)\n",
    "b=torch.zeros((1,3), requires_grad=True)\n",
    "\n",
    "print(W,b)\n",
    "\n",
    "optimizer=optim.SGD([W,b], lr=0.1)"
   ]
  },
  {
   "cell_type": "code",
   "execution_count": 54,
   "metadata": {},
   "outputs": [
    {
     "name": "stdout",
     "output_type": "stream",
     "text": [
      "epoch= 0 cost= 1.0986123085021973\n",
      "epoch= 100 cost= 0.7300646305084229\n",
      "epoch= 200 cost= 0.637054443359375\n",
      "epoch= 300 cost= 0.5714213848114014\n",
      "epoch= 400 cost= 0.5157002210617065\n",
      "epoch= 500 cost= 0.46481865644454956\n",
      "epoch= 600 cost= 0.4165162444114685\n",
      "epoch= 700 cost= 0.36960649490356445\n",
      "epoch= 800 cost= 0.32354995608329773\n",
      "epoch= 900 cost= 0.278940886259079\n"
     ]
    }
   ],
   "source": [
    "n_epochs=1000\n",
    "for epoch in range(n_epochs):\n",
    "    y_hat=F.softmax(x_train.matmul(W)+b, dim=1)\n",
    "    cost=(y_one_hot*-torch.log(y_hat)).sum(dim=1).mean()\n",
    "    \n",
    "    optimizer.zero_grad()\n",
    "    cost.backward()\n",
    "    optimizer.step()\n",
    "\n",
    "    if epoch%100==0:\n",
    "        print('epoch=', epoch, 'cost=', cost.item())"
   ]
  },
  {
   "cell_type": "code",
   "execution_count": 56,
   "metadata": {},
   "outputs": [
    {
     "name": "stdout",
     "output_type": "stream",
     "text": [
      "tensor([[0., 0., 0.],\n",
      "        [0., 0., 0.],\n",
      "        [0., 0., 0.],\n",
      "        [0., 0., 0.]], requires_grad=True) tensor([[0., 0., 0.]], requires_grad=True)\n",
      "epoch= 0 cost= 1.0986123085021973\n",
      "epoch= 100 cost= 0.7300646305084229\n",
      "epoch= 200 cost= 0.637054443359375\n",
      "epoch= 300 cost= 0.5714214444160461\n",
      "epoch= 400 cost= 0.5157002806663513\n",
      "epoch= 500 cost= 0.4648188650608063\n",
      "epoch= 600 cost= 0.41651639342308044\n",
      "epoch= 700 cost= 0.369606614112854\n",
      "epoch= 800 cost= 0.32354989647865295\n",
      "epoch= 900 cost= 0.2789408564567566\n"
     ]
    }
   ],
   "source": [
    "# high_level 구현\n",
    "W=torch.zeros((4,3), requires_grad=True)\n",
    "b=torch.zeros((1,3), requires_grad=True)\n",
    "\n",
    "print(W,b)\n",
    "\n",
    "optimizer=optim.SGD([W,b], lr=0.1)\n",
    "\n",
    "for epoch in range(n_epochs):\n",
    "    z=x_train.matmul(W)+b\n",
    "    cost=F.cross_entropy(z, y_train)\n",
    "\n",
    "    optimizer.zero_grad()\n",
    "    cost.backward()\n",
    "    optimizer.step()\n",
    "\n",
    "    if epoch%100==0:\n",
    "        print('epoch=', epoch, 'cost=', cost.item())"
   ]
  },
  {
   "cell_type": "code",
   "execution_count": 57,
   "metadata": {},
   "outputs": [
    {
     "name": "stdout",
     "output_type": "stream",
     "text": [
      "epoch= 0 cost= 1.6563588380813599\n",
      "epoch= 100 cost= 0.9077876210212708\n",
      "epoch= 200 cost= 0.8007525205612183\n",
      "epoch= 300 cost= 0.7450324892997742\n",
      "epoch= 400 cost= 0.7041950225830078\n",
      "epoch= 500 cost= 0.671798586845398\n",
      "epoch= 600 cost= 0.6452271342277527\n",
      "epoch= 700 cost= 0.622939944267273\n",
      "epoch= 800 cost= 0.6038928627967834\n",
      "epoch= 900 cost= 0.5873399972915649\n"
     ]
    }
   ],
   "source": [
    "model=nn.Linear(4,3)\n",
    "optimizer=optim.SGD(model.parameters(), lr=0.01)\n",
    "\n",
    "for epoch in range(n_epochs):\n",
    "    y_hat=model(x_train)\n",
    "    cost=F.cross_entropy(y_hat, y_train)\n",
    "\n",
    "    optimizer.zero_grad()\n",
    "    cost.backward()\n",
    "    optimizer.step()\n",
    "\n",
    "    if epoch%100==0:\n",
    "        print('epoch=', epoch, 'cost=', cost.item())"
   ]
  },
  {
   "cell_type": "code",
   "execution_count": 58,
   "metadata": {},
   "outputs": [],
   "source": [
    "class SoftmaxClassifierModel(nn.Module):\n",
    "    def __init__(self):\n",
    "        super().__init__()\n",
    "        self.linear = nn.Linear(4,3) # Output이 3!\n",
    "\n",
    "    def forward(self, x):\n",
    "        return self.linear(x)    "
   ]
  },
  {
   "cell_type": "code",
   "execution_count": 59,
   "metadata": {},
   "outputs": [
    {
     "name": "stdout",
     "output_type": "stream",
     "text": [
      "epoch= 0 cost= 2.6547322273254395\n",
      "epoch= 100 cost= 0.8455586433410645\n",
      "epoch= 200 cost= 0.7601957321166992\n",
      "epoch= 300 cost= 0.7084351778030396\n",
      "epoch= 400 cost= 0.6710707545280457\n",
      "epoch= 500 cost= 0.6419177055358887\n",
      "epoch= 600 cost= 0.6181488633155823\n",
      "epoch= 700 cost= 0.5981897711753845\n",
      "epoch= 800 cost= 0.5810540914535522\n",
      "epoch= 900 cost= 0.5660780072212219\n"
     ]
    }
   ],
   "source": [
    "model=SoftmaxClassifierModel()\n",
    "optimizer=optim.SGD(model.parameters(), lr=0.01)\n",
    "\n",
    "for epoch in range(n_epochs):\n",
    "    y_hat=model(x_train)\n",
    "    cost=F.cross_entropy(y_hat, y_train)\n",
    "\n",
    "    optimizer.zero_grad()\n",
    "    cost.backward()\n",
    "    optimizer.step()\n",
    "\n",
    "    if epoch%100==0:\n",
    "        print('epoch=', epoch, 'cost=', cost.item())\n",
    "    "
   ]
  }
 ],
 "metadata": {
  "kernelspec": {
   "display_name": "base",
   "language": "python",
   "name": "python3"
  },
  "language_info": {
   "codemirror_mode": {
    "name": "ipython",
    "version": 3
   },
   "file_extension": ".py",
   "mimetype": "text/x-python",
   "name": "python",
   "nbconvert_exporter": "python",
   "pygments_lexer": "ipython3",
   "version": "3.10.9"
  },
  "orig_nbformat": 4
 },
 "nbformat": 4,
 "nbformat_minor": 2
}
