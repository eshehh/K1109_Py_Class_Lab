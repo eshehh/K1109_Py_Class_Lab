{
 "cells": [
  {
   "cell_type": "code",
   "execution_count": 1,
   "metadata": {},
   "outputs": [],
   "source": [
    "import pandas as pd\n",
    "import numpy as np\n",
    "import statsmodels.api as sm"
   ]
  },
  {
   "cell_type": "code",
   "execution_count": 2,
   "metadata": {},
   "outputs": [
    {
     "data": {
      "text/html": [
       "<div>\n",
       "<style scoped>\n",
       "    .dataframe tbody tr th:only-of-type {\n",
       "        vertical-align: middle;\n",
       "    }\n",
       "\n",
       "    .dataframe tbody tr th {\n",
       "        vertical-align: top;\n",
       "    }\n",
       "\n",
       "    .dataframe thead th {\n",
       "        text-align: right;\n",
       "    }\n",
       "</style>\n",
       "<table border=\"1\" class=\"dataframe\">\n",
       "  <thead>\n",
       "    <tr style=\"text-align: right;\">\n",
       "      <th></th>\n",
       "      <th>Apress(hPa)</th>\n",
       "      <th>Atemp(°C)</th>\n",
       "      <th>Stemp(°C)</th>\n",
       "      <th>Moisture(%)</th>\n",
       "    </tr>\n",
       "    <tr>\n",
       "      <th>date</th>\n",
       "      <th></th>\n",
       "      <th></th>\n",
       "      <th></th>\n",
       "      <th></th>\n",
       "    </tr>\n",
       "  </thead>\n",
       "  <tbody>\n",
       "    <tr>\n",
       "      <th>2014-01-16</th>\n",
       "      <td>1029.6</td>\n",
       "      <td>4.4</td>\n",
       "      <td>14.6</td>\n",
       "      <td>60.0</td>\n",
       "    </tr>\n",
       "    <tr>\n",
       "      <th>2014-01-17</th>\n",
       "      <td>1026.9</td>\n",
       "      <td>6.1</td>\n",
       "      <td>14.8</td>\n",
       "      <td>59.0</td>\n",
       "    </tr>\n",
       "    <tr>\n",
       "      <th>2014-01-18</th>\n",
       "      <td>1028.5</td>\n",
       "      <td>5.8</td>\n",
       "      <td>14.9</td>\n",
       "      <td>66.0</td>\n",
       "    </tr>\n",
       "    <tr>\n",
       "      <th>2014-01-19</th>\n",
       "      <td>1029.1</td>\n",
       "      <td>4.6</td>\n",
       "      <td>14.8</td>\n",
       "      <td>66.0</td>\n",
       "    </tr>\n",
       "    <tr>\n",
       "      <th>2014-01-20</th>\n",
       "      <td>1022.0</td>\n",
       "      <td>7.6</td>\n",
       "      <td>14.6</td>\n",
       "      <td>64.0</td>\n",
       "    </tr>\n",
       "    <tr>\n",
       "      <th>...</th>\n",
       "      <td>...</td>\n",
       "      <td>...</td>\n",
       "      <td>...</td>\n",
       "      <td>...</td>\n",
       "    </tr>\n",
       "    <tr>\n",
       "      <th>2022-12-27</th>\n",
       "      <td>1028.8</td>\n",
       "      <td>5.6</td>\n",
       "      <td>16.1</td>\n",
       "      <td>63.0</td>\n",
       "    </tr>\n",
       "    <tr>\n",
       "      <th>2022-12-28</th>\n",
       "      <td>1030.4</td>\n",
       "      <td>5.6</td>\n",
       "      <td>16.0</td>\n",
       "      <td>59.0</td>\n",
       "    </tr>\n",
       "    <tr>\n",
       "      <th>2022-12-29</th>\n",
       "      <td>1032.6</td>\n",
       "      <td>4.9</td>\n",
       "      <td>16.1</td>\n",
       "      <td>59.0</td>\n",
       "    </tr>\n",
       "    <tr>\n",
       "      <th>2022-12-30</th>\n",
       "      <td>1032.3</td>\n",
       "      <td>5.8</td>\n",
       "      <td>16.2</td>\n",
       "      <td>53.0</td>\n",
       "    </tr>\n",
       "    <tr>\n",
       "      <th>2022-12-31</th>\n",
       "      <td>1032.0</td>\n",
       "      <td>5.0</td>\n",
       "      <td>16.2</td>\n",
       "      <td>55.0</td>\n",
       "    </tr>\n",
       "  </tbody>\n",
       "</table>\n",
       "<p>2788 rows × 4 columns</p>\n",
       "</div>"
      ],
      "text/plain": [
       "            Apress(hPa)  Atemp(°C)  Stemp(°C)  Moisture(%)\n",
       "date                                                      \n",
       "2014-01-16       1029.6        4.4       14.6         60.0\n",
       "2014-01-17       1026.9        6.1       14.8         59.0\n",
       "2014-01-18       1028.5        5.8       14.9         66.0\n",
       "2014-01-19       1029.1        4.6       14.8         66.0\n",
       "2014-01-20       1022.0        7.6       14.6         64.0\n",
       "...                 ...        ...        ...          ...\n",
       "2022-12-27       1028.8        5.6       16.1         63.0\n",
       "2022-12-28       1030.4        5.6       16.0         59.0\n",
       "2022-12-29       1032.6        4.9       16.1         59.0\n",
       "2022-12-30       1032.3        5.8       16.2         53.0\n",
       "2022-12-31       1032.0        5.0       16.2         55.0\n",
       "\n",
       "[2788 rows x 4 columns]"
      ]
     },
     "execution_count": 2,
     "metadata": {},
     "output_type": "execute_result"
    }
   ],
   "source": [
    "df = pd.read_csv('추자도.csv', encoding='cp949')\n",
    "\n",
    "df = df.rename(columns={'일시': 'date', '평균기압(hPa)': 'Apress(hPa)', '평균 기온(°C)': 'Atemp(°C)', '평균 수온(°C)': 'Stemp(°C)', '평균 상대습도(%)': 'Moisture(%)'})\n",
    "df=df.set_index(pd.to_datetime(df.date)) # Date를 인덱스로\n",
    "df=df[['Apress(hPa)','Atemp(°C)','Stemp(°C)','Moisture(%)']] # Column 재정리\n",
    "df.dropna(inplace=True)\n",
    "df"
   ]
  },
  {
   "cell_type": "code",
   "execution_count": 3,
   "metadata": {},
   "outputs": [
    {
     "name": "stdout",
     "output_type": "stream",
     "text": [
      "            Predicted Temperature\n",
      "Date                             \n",
      "2023-01-01              18.799539\n",
      "2023-01-02              18.799766\n",
      "2023-01-03              18.799992\n",
      "2023-01-04              18.800219\n",
      "2023-01-05              18.800445\n",
      "2023-01-06              18.800672\n",
      "2023-01-07              18.800899\n"
     ]
    }
   ],
   "source": [
    "from sklearn.linear_model import LinearRegression\n",
    "# Create a linear regression model\n",
    "regression_model = LinearRegression()\n",
    "\n",
    "# Prepare the data for regression\n",
    "X = df.index.to_julian_date().values.reshape(-1, 1)  # Convert date index to Julian dates\n",
    "y = df['Stemp(°C)'].values.reshape(-1, 1)\n",
    "\n",
    "# Fit the linear regression model\n",
    "regression_model.fit(X, y)\n",
    "\n",
    "# Predict the next 7 days\n",
    "next_dates = pd.date_range(start=df.index[-1] + pd.DateOffset(days=1), periods=7)\n",
    "next_dates_julian = next_dates.to_julian_date().values.reshape(-1, 1)\n",
    "next_temperatures = regression_model.predict(next_dates_julian)\n",
    "\n",
    "# Create a DataFrame to store the predictions\n",
    "predictions = pd.DataFrame({'Date': next_dates, 'Predicted Temperature': next_temperatures.flatten()})\n",
    "predictions.set_index('Date', inplace=True)\n",
    "\n",
    "print(predictions)"
   ]
  },
  {
   "cell_type": "code",
   "execution_count": 4,
   "metadata": {},
   "outputs": [
    {
     "name": "stderr",
     "output_type": "stream",
     "text": [
      "C:\\Users\\admin\\AppData\\Local\\Temp\\ipykernel_14072\\1148420423.py:6: FutureWarning: The default dtype for empty Series will be 'object' instead of 'float64' in a future version. Specify a dtype explicitly to silence this warning.\n",
      "  df.loc[future_date] = None\n",
      "c:\\Users\\admin\\anaconda3\\lib\\site-packages\\statsmodels\\tsa\\base\\tsa_model.py:471: ValueWarning: A date index has been provided, but it has no associated frequency information and so will be ignored when e.g. forecasting.\n",
      "  self._init_dates(dates, freq)\n",
      "c:\\Users\\admin\\anaconda3\\lib\\site-packages\\statsmodels\\tsa\\base\\tsa_model.py:471: ValueWarning: A date index has been provided, but it has no associated frequency information and so will be ignored when e.g. forecasting.\n",
      "  self._init_dates(dates, freq)\n",
      "c:\\Users\\admin\\anaconda3\\lib\\site-packages\\statsmodels\\tsa\\base\\tsa_model.py:471: ValueWarning: A date index has been provided, but it has no associated frequency information and so will be ignored when e.g. forecasting.\n",
      "  self._init_dates(dates, freq)\n"
     ]
    },
    {
     "name": "stdout",
     "output_type": "stream",
     "text": [
      "Forecasted water temperature for 2023-01-01: 16.19974655936624\n"
     ]
    },
    {
     "name": "stderr",
     "output_type": "stream",
     "text": [
      "c:\\Users\\admin\\anaconda3\\lib\\site-packages\\statsmodels\\tsa\\base\\tsa_model.py:834: ValueWarning: No supported index is available. Prediction results will be given with an integer index beginning at `start`.\n",
      "  return get_prediction_index(\n"
     ]
    }
   ],
   "source": [
    "import pandas as pd\n",
    "from statsmodels.tsa.arima.model import ARIMA\n",
    "\n",
    "# Extend the DataFrame to include the future date\n",
    "future_date = pd.to_datetime('2023-01-01')\n",
    "df.loc[future_date] = None\n",
    "\n",
    "# Fill any missing values in the DataFrame (if necessary)\n",
    "df.fillna(method='ffill', inplace=True)\n",
    "\n",
    "# Extract the relevant series for water temperature\n",
    "stemp = df['Stemp(°C)']\n",
    "\n",
    "# Fit the ARIMA model\n",
    "model = ARIMA(stemp, order=(1, 1, 1))\n",
    "model_fit = model.fit()\n",
    "\n",
    "# Forecast the water temperature for the extended date range\n",
    "forecast = model_fit.forecast(steps=len(df))\n",
    "\n",
    "# Get the forecasted value for 2023-01-01\n",
    "forecast_value = forecast.iloc[-1]  # Retrieve the last forecasted value\n",
    "\n",
    "# Print the forecasted water temperature for 2023-01-01\n",
    "print(\"Forecasted water temperature for 2023-01-01:\", forecast_value)"
   ]
  },
  {
   "cell_type": "code",
   "execution_count": 5,
   "metadata": {},
   "outputs": [
    {
     "name": "stderr",
     "output_type": "stream",
     "text": [
      "C:\\Users\\admin\\AppData\\Local\\Temp\\ipykernel_14072\\2006745364.py:3: FutureWarning: The frame.append method is deprecated and will be removed from pandas in a future version. Use pandas.concat instead.\n",
      "  df = df.append(pd.DataFrame(index=future_dates))\n",
      "c:\\Users\\admin\\anaconda3\\lib\\site-packages\\statsmodels\\tsa\\base\\tsa_model.py:471: ValueWarning: A date index has been provided, but it has no associated frequency information and so will be ignored when e.g. forecasting.\n",
      "  self._init_dates(dates, freq)\n",
      "c:\\Users\\admin\\anaconda3\\lib\\site-packages\\statsmodels\\tsa\\base\\tsa_model.py:471: ValueWarning: A date index has been provided, but it has no associated frequency information and so will be ignored when e.g. forecasting.\n",
      "  self._init_dates(dates, freq)\n",
      "c:\\Users\\admin\\anaconda3\\lib\\site-packages\\statsmodels\\tsa\\base\\tsa_model.py:471: ValueWarning: A date index has been provided, but it has no associated frequency information and so will be ignored when e.g. forecasting.\n",
      "  self._init_dates(dates, freq)\n"
     ]
    },
    {
     "name": "stdout",
     "output_type": "stream",
     "text": [
      "Forecasted water temperature for 2023-01-01 : 16.200076941287854\n",
      "Forecasted water temperature for 2023-01-02 : 16.20004032094031\n",
      "Forecasted water temperature for 2023-01-03 : 16.200057750462115\n"
     ]
    },
    {
     "name": "stderr",
     "output_type": "stream",
     "text": [
      "c:\\Users\\admin\\anaconda3\\lib\\site-packages\\statsmodels\\tsa\\base\\tsa_model.py:834: ValueWarning: No supported index is available. Prediction results will be given with an integer index beginning at `start`.\n",
      "  return get_prediction_index(\n"
     ]
    }
   ],
   "source": [
    "# Extend the DataFrame to include the future dates\n",
    "future_dates = pd.date_range(start='2023-01-01', end='2023-01-03')\n",
    "df = df.append(pd.DataFrame(index=future_dates))\n",
    "\n",
    "# Fill any missing values in the DataFrame (if necessary)\n",
    "df.fillna(method='ffill', inplace=True)\n",
    "\n",
    "# Extract the relevant series for water temperature\n",
    "stemp = df['Stemp(°C)']\n",
    "\n",
    "# Fit the ARIMA model\n",
    "model = ARIMA(stemp, order=(1, 1, 1))\n",
    "model_fit = model.fit()\n",
    "\n",
    "# Forecast the water temperature for the future dates\n",
    "forecast_values = model_fit.forecast(steps=len(future_dates))\n",
    "\n",
    "# Print the forecasted values and dates\n",
    "for date, value in zip(future_dates, forecast_values):\n",
    "    print(\"Forecasted water temperature for\", date.date(), \":\", value)"
   ]
  },
  {
   "cell_type": "code",
   "execution_count": 6,
   "metadata": {},
   "outputs": [
    {
     "name": "stderr",
     "output_type": "stream",
     "text": [
      "C:\\Users\\admin\\AppData\\Local\\Temp\\ipykernel_14072\\2006745364.py:3: FutureWarning: The frame.append method is deprecated and will be removed from pandas in a future version. Use pandas.concat instead.\n",
      "  df = df.append(pd.DataFrame(index=future_dates))\n",
      "c:\\Users\\admin\\anaconda3\\lib\\site-packages\\statsmodels\\tsa\\base\\tsa_model.py:471: ValueWarning: A date index has been provided, but it has no associated frequency information and so will be ignored when e.g. forecasting.\n",
      "  self._init_dates(dates, freq)\n",
      "c:\\Users\\admin\\anaconda3\\lib\\site-packages\\statsmodels\\tsa\\base\\tsa_model.py:471: ValueWarning: A date index has been provided, but it is not monotonic and so will be ignored when e.g. forecasting.\n",
      "  self._init_dates(dates, freq)\n",
      "c:\\Users\\admin\\anaconda3\\lib\\site-packages\\statsmodels\\tsa\\base\\tsa_model.py:471: ValueWarning: A date index has been provided, but it has no associated frequency information and so will be ignored when e.g. forecasting.\n",
      "  self._init_dates(dates, freq)\n",
      "c:\\Users\\admin\\anaconda3\\lib\\site-packages\\statsmodels\\tsa\\base\\tsa_model.py:471: ValueWarning: A date index has been provided, but it is not monotonic and so will be ignored when e.g. forecasting.\n",
      "  self._init_dates(dates, freq)\n",
      "c:\\Users\\admin\\anaconda3\\lib\\site-packages\\statsmodels\\tsa\\base\\tsa_model.py:471: ValueWarning: A date index has been provided, but it has no associated frequency information and so will be ignored when e.g. forecasting.\n",
      "  self._init_dates(dates, freq)\n",
      "c:\\Users\\admin\\anaconda3\\lib\\site-packages\\statsmodels\\tsa\\base\\tsa_model.py:471: ValueWarning: A date index has been provided, but it is not monotonic and so will be ignored when e.g. forecasting.\n",
      "  self._init_dates(dates, freq)\n"
     ]
    },
    {
     "name": "stdout",
     "output_type": "stream",
     "text": [
      "Forecasted water temperature for 2023-01-01 : 16.199984173949442\n",
      "Forecasted water temperature for 2023-01-02 : 16.19999170642639\n",
      "Forecasted water temperature for 2023-01-03 : 16.199988121311534\n"
     ]
    },
    {
     "name": "stderr",
     "output_type": "stream",
     "text": [
      "c:\\Users\\admin\\anaconda3\\lib\\site-packages\\statsmodels\\tsa\\base\\tsa_model.py:834: ValueWarning: No supported index is available. Prediction results will be given with an integer index beginning at `start`.\n",
      "  return get_prediction_index(\n"
     ]
    }
   ],
   "source": [
    "# Extend the DataFrame to include the future dates\n",
    "future_dates = pd.date_range(start='2023-01-01', end='2023-01-03')\n",
    "df = df.append(pd.DataFrame(index=future_dates))\n",
    "\n",
    "# Fill any missing values in the DataFrame (if necessary)\n",
    "df.fillna(method='ffill', inplace=True)\n",
    "\n",
    "# Extract the relevant series for water temperature\n",
    "stemp = df['Stemp(°C)']\n",
    "\n",
    "# Fit the ARIMA model\n",
    "model = ARIMA(stemp, order=(1, 1, 1))\n",
    "model_fit = model.fit()\n",
    "\n",
    "# Forecast the water temperature for the future dates\n",
    "forecast_values = model_fit.forecast(steps=len(future_dates))\n",
    "\n",
    "# Print the forecasted values and dates\n",
    "for date, value in zip(future_dates, forecast_values):\n",
    "    print(\"Forecasted water temperature for\", date.date(), \":\", value)"
   ]
  },
  {
   "cell_type": "code",
   "execution_count": 7,
   "metadata": {},
   "outputs": [
    {
     "name": "stderr",
     "output_type": "stream",
     "text": [
      "C:\\Users\\admin\\AppData\\Local\\Temp\\ipykernel_14072\\161391055.py:6: FutureWarning: The frame.append method is deprecated and will be removed from pandas in a future version. Use pandas.concat instead.\n",
      "  df = df.append(pd.DataFrame(index=future_dates))\n",
      "c:\\Users\\admin\\anaconda3\\lib\\site-packages\\statsmodels\\tsa\\base\\tsa_model.py:471: ValueWarning: A date index has been provided, but it has no associated frequency information and so will be ignored when e.g. forecasting.\n",
      "  self._init_dates(dates, freq)\n",
      "c:\\Users\\admin\\anaconda3\\lib\\site-packages\\statsmodels\\tsa\\base\\tsa_model.py:471: ValueWarning: A date index has been provided, but it is not monotonic and so will be ignored when e.g. forecasting.\n",
      "  self._init_dates(dates, freq)\n",
      "c:\\Users\\admin\\anaconda3\\lib\\site-packages\\statsmodels\\tsa\\base\\tsa_model.py:471: ValueWarning: A date index has been provided, but it has no associated frequency information and so will be ignored when e.g. forecasting.\n",
      "  self._init_dates(dates, freq)\n",
      "c:\\Users\\admin\\anaconda3\\lib\\site-packages\\statsmodels\\tsa\\base\\tsa_model.py:471: ValueWarning: A date index has been provided, but it is not monotonic and so will be ignored when e.g. forecasting.\n",
      "  self._init_dates(dates, freq)\n"
     ]
    },
    {
     "name": "stdout",
     "output_type": "stream",
     "text": [
      "Forecasted water temperature for 2023-01-01 : 16.26961494334818\n",
      "Forecasted water temperature for 2023-01-02 : 16.261745291685934\n"
     ]
    },
    {
     "name": "stderr",
     "output_type": "stream",
     "text": [
      "c:\\Users\\admin\\anaconda3\\lib\\site-packages\\statsmodels\\tsa\\base\\tsa_model.py:834: ValueWarning: No supported index is available. Prediction results will be given with an integer index beginning at `start`.\n",
      "  return get_prediction_index(\n"
     ]
    }
   ],
   "source": [
    "import pandas as pd\n",
    "from statsmodels.tsa.statespace.sarimax import SARIMAX\n",
    "\n",
    "# Extend the DataFrame to include the future dates\n",
    "future_dates = pd.date_range(start='2023-01-01', end='2023-01-02')\n",
    "df = df.append(pd.DataFrame(index=future_dates))\n",
    "\n",
    "# Fill any missing values in the DataFrame (if necessary)\n",
    "df.fillna(method='ffill', inplace=True)\n",
    "\n",
    "# Extract the relevant series for water temperature\n",
    "stemp = df['Stemp(°C)']\n",
    "\n",
    "# Extract the relevant series for the exogenous variable\n",
    "atemp = df['Atemp(°C)']\n",
    "\n",
    "# Fit the SARIMA model with exogenous variable\n",
    "model = SARIMAX(stemp, exog=atemp, order=(1, 1, 1), seasonal_order=(1, 1, 1, 12))\n",
    "model_fit = model.fit()\n",
    "\n",
    "# Forecast the water temperature for the future dates with exogenous variable\n",
    "forecast_values = model_fit.get_forecast(steps=len(future_dates), exog=atemp[len(df)-len(future_dates):])\n",
    "\n",
    "# Print the forecasted values and dates\n",
    "for date, value in zip(future_dates, forecast_values.predicted_mean):\n",
    "    print(\"Forecasted water temperature for\", date.date(), \":\", value)"
   ]
  }
 ],
 "metadata": {
  "kernelspec": {
   "display_name": "base",
   "language": "python",
   "name": "python3"
  },
  "language_info": {
   "codemirror_mode": {
    "name": "ipython",
    "version": 3
   },
   "file_extension": ".py",
   "mimetype": "text/x-python",
   "name": "python",
   "nbconvert_exporter": "python",
   "pygments_lexer": "ipython3",
   "version": "3.10.9"
  },
  "orig_nbformat": 4
 },
 "nbformat": 4,
 "nbformat_minor": 2
}
