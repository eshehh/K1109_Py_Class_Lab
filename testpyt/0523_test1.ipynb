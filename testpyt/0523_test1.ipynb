{
 "cells": [
  {
   "cell_type": "code",
   "execution_count": 2,
   "metadata": {},
   "outputs": [],
   "source": [
    "import requests"
   ]
  },
  {
   "cell_type": "code",
   "execution_count": 5,
   "metadata": {},
   "outputs": [],
   "source": [
    "url = \"http://www.khoa.go.kr/api/oceangrid/tidalBuTemp/search.do\"\n",
    "params = {\n",
    "    \"ServiceKey\": \"Sfb4fiGk1sy9O8Qfnn4A==\",\n",
    "    \"ObsCode\": \"KG_0028\",\n",
    "    \"Date\": \"20160101\",\n",
    "    \"ResultType\": \"json\"\n",
    "}"
   ]
  },
  {
   "cell_type": "code",
   "execution_count": 6,
   "metadata": {},
   "outputs": [
    {
     "name": "stdout",
     "output_type": "stream",
     "text": [
      "{'result': {'data': [{'record_time': '2016-01-01 00:00:00', 'water_temp': '15.4'}, {'record_time': '2016-01-01 00:30:00', 'water_temp': '15.5'}, {'record_time': '2016-01-01 01:00:00', 'water_temp': '15.5'}, {'record_time': '2016-01-01 01:30:00', 'water_temp': '15.5'}, {'record_time': '2016-01-01 02:00:00', 'water_temp': '15.5'}, {'record_time': '2016-01-01 02:30:00', 'water_temp': '15.6'}, {'record_time': '2016-01-01 03:00:00', 'water_temp': '15.9'}, {'record_time': '2016-01-01 03:30:00', 'water_temp': '16.0'}, {'record_time': '2016-01-01 04:00:00', 'water_temp': '16.1'}, {'record_time': '2016-01-01 04:30:00', 'water_temp': '16.1'}, {'record_time': '2016-01-01 05:00:00', 'water_temp': '16.1'}, {'record_time': '2016-01-01 05:30:00', 'water_temp': '15.9'}, {'record_time': '2016-01-01 06:00:00', 'water_temp': '16.0'}, {'record_time': '2016-01-01 06:30:00', 'water_temp': '15.7'}, {'record_time': '2016-01-01 07:00:00', 'water_temp': '15.8'}, {'record_time': '2016-01-01 07:30:00', 'water_temp': '15.8'}, {'record_time': '2016-01-01 08:00:00', 'water_temp': '15.9'}, {'record_time': '2016-01-01 08:30:00', 'water_temp': '16.0'}, {'record_time': '2016-01-01 09:00:00', 'water_temp': '16.0'}, {'record_time': '2016-01-01 09:30:00', 'water_temp': '15.9'}, {'record_time': '2016-01-01 10:00:00', 'water_temp': '15.7'}, {'record_time': '2016-01-01 10:30:00', 'water_temp': '15.6'}, {'record_time': '2016-01-01 11:00:00', 'water_temp': '15.6'}, {'record_time': '2016-01-01 11:30:00', 'water_temp': '15.7'}, {'record_time': '2016-01-01 12:00:00', 'water_temp': '15.7'}, {'record_time': '2016-01-01 12:30:00', 'water_temp': '15.9'}, {'record_time': '2016-01-01 13:00:00', 'water_temp': '16.0'}, {'record_time': '2016-01-01 13:30:00', 'water_temp': '16.0'}, {'record_time': '2016-01-01 14:00:00', 'water_temp': '16.0'}, {'record_time': '2016-01-01 14:30:00', 'water_temp': '16.0'}, {'record_time': '2016-01-01 15:00:00', 'water_temp': '16.1'}, {'record_time': '2016-01-01 15:30:00', 'water_temp': '16.1'}, {'record_time': '2016-01-01 16:00:00', 'water_temp': '16.1'}, {'record_time': '2016-01-01 16:30:00', 'water_temp': '16.1'}, {'record_time': '2016-01-01 17:00:00', 'water_temp': '16.2'}, {'record_time': '2016-01-01 17:30:00', 'water_temp': '16.2'}, {'record_time': '2016-01-01 18:00:00', 'water_temp': '16.2'}, {'record_time': '2016-01-01 18:30:00', 'water_temp': '16.3'}, {'record_time': '2016-01-01 19:00:00', 'water_temp': '16.3'}, {'record_time': '2016-01-01 19:30:00', 'water_temp': '16.3'}, {'record_time': '2016-01-01 20:00:00', 'water_temp': '15.9'}, {'record_time': '2016-01-01 20:30:00', 'water_temp': '15.9'}, {'record_time': '2016-01-01 21:00:00', 'water_temp': '16.0'}, {'record_time': '2016-01-01 21:30:00', 'water_temp': '16.0'}, {'record_time': '2016-01-01 22:00:00', 'water_temp': '16.1'}, {'record_time': '2016-01-01 22:30:00', 'water_temp': '16.1'}, {'record_time': '2016-01-01 23:00:00', 'water_temp': '16.1'}, {'record_time': '2016-01-01 23:30:00', 'water_temp': '16.0'}, {'record_time': '2016-01-02 00:00:00', 'water_temp': '15.9'}], 'meta': {'obs_post_id': 'KG_0028', 'obs_last_req_cnt': '19999/20000', 'obs_lat': '33.7001111111111', 'obs_post_name': '제주해협', 'obs_lon': '126.5905'}}}\n"
     ]
    }
   ],
   "source": [
    "response = requests.get(url, params=params)\n",
    "\n",
    "# Check if the request was successful (status code 200)\n",
    "if response.status_code == 200:\n",
    "    data = response.json()\n",
    "    # Process the retrieved JSON data as per your requirements\n",
    "    # You can access the specific data elements using dictionary keys\n",
    "\n",
    "    # Example: Print the entire response JSON\n",
    "    print(data)\n",
    "else:\n",
    "    # Handle the error case\n",
    "    print(\"Error:\", response.status_code)"
   ]
  },
  {
   "cell_type": "code",
   "execution_count": null,
   "metadata": {},
   "outputs": [],
   "source": []
  }
 ],
 "metadata": {
  "kernelspec": {
   "display_name": "base",
   "language": "python",
   "name": "python3"
  },
  "language_info": {
   "codemirror_mode": {
    "name": "ipython",
    "version": 3
   },
   "file_extension": ".py",
   "mimetype": "text/x-python",
   "name": "python",
   "nbconvert_exporter": "python",
   "pygments_lexer": "ipython3",
   "version": "3.10.9"
  },
  "orig_nbformat": 4
 },
 "nbformat": 4,
 "nbformat_minor": 2
}
