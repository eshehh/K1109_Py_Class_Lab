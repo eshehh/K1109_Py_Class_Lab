{
 "cells": [
  {
   "cell_type": "code",
   "execution_count": 2,
   "metadata": {},
   "outputs": [
    {
     "name": "stderr",
     "output_type": "stream",
     "text": [
      "c:\\Users\\admin\\anaconda3\\lib\\site-packages\\torch\\nn\\modules\\loss.py:536: UserWarning: Using a target size (torch.Size([2708, 1])) that is different to the input size (torch.Size([])). This will likely lead to incorrect results due to broadcasting. Please ensure they have the same size.\n",
      "  return F.mse_loss(input, target, reduction=self.reduction)\n"
     ]
    },
    {
     "name": "stdout",
     "output_type": "stream",
     "text": [
      "Epoch: 100, Loss: 0.0504\n",
      "Epoch: 200, Loss: 0.0504\n",
      "Epoch: 300, Loss: 0.0504\n",
      "Epoch: 400, Loss: 0.0504\n",
      "Epoch: 500, Loss: 0.0504\n",
      "Epoch: 600, Loss: 0.0504\n",
      "Epoch: 700, Loss: 0.0504\n",
      "Epoch: 800, Loss: 0.0504\n",
      "Epoch: 900, Loss: 0.0504\n",
      "Epoch: 1000, Loss: 0.0504\n",
      "Predicted water temperature on 12/30/2022: 9.391682624816895\n"
     ]
    },
    {
     "name": "stderr",
     "output_type": "stream",
     "text": [
      "c:\\Users\\admin\\anaconda3\\lib\\site-packages\\sklearn\\base.py:420: UserWarning: X does not have valid feature names, but MinMaxScaler was fitted with feature names\n",
      "  warnings.warn(\n"
     ]
    }
   ],
   "source": [
    "import pandas as pd\n",
    "import numpy as np\n",
    "import torch\n",
    "import torch.nn as nn\n",
    "from sklearn.model_selection import train_test_split\n",
    "from sklearn.preprocessing import MinMaxScaler\n",
    "\n",
    "# Read the CSV file\n",
    "df = pd.read_csv('data_03.csv', index_col=0, parse_dates=True)\n",
    "\n",
    "# Preprocess the data\n",
    "df['평균수온'] = df.mean(axis=1)\n",
    "df = df[['평균수온']]\n",
    "df.loc[df['평균수온'] == 0, '평균수온'] = np.nan\n",
    "df = df.dropna()\n",
    "\n",
    "# Split the data into training and test sets\n",
    "train_data, test_data = train_test_split(df, test_size=0.2, random_state=42)\n",
    "\n",
    "# Scale the data\n",
    "scaler = MinMaxScaler()\n",
    "train_data_scaled = scaler.fit_transform(train_data)\n",
    "test_data_scaled = scaler.transform(test_data)\n",
    "\n",
    "# Convert the data to PyTorch tensors\n",
    "train_tensor = torch.from_numpy(train_data_scaled).float()\n",
    "test_tensor = torch.from_numpy(test_data_scaled).float()\n",
    "\n",
    "# Define the GRU model\n",
    "class GRUModel(nn.Module):\n",
    "    def __init__(self, input_size, hidden_size, output_size):\n",
    "        super(GRUModel, self).__init__()\n",
    "        self.gru = nn.GRU(input_size, hidden_size, num_layers=1, batch_first=True)\n",
    "        self.fc = nn.Linear(hidden_size, output_size)\n",
    "\n",
    "    def forward(self, x):\n",
    "        out, _ = self.gru(x)\n",
    "        out = self.fc(out[:, -1, :])\n",
    "        return out\n",
    "\n",
    "# Set the device\n",
    "device = torch.device('cuda' if torch.cuda.is_available() else 'cpu')\n",
    "\n",
    "# Define the model parameters\n",
    "input_size = train_tensor.shape[1]\n",
    "hidden_size = 64\n",
    "output_size = 1\n",
    "\n",
    "# Instantiate the model\n",
    "model = GRUModel(input_size, hidden_size, output_size).to(device)\n",
    "\n",
    "# Define the loss function and optimizer\n",
    "criterion = nn.MSELoss()\n",
    "optimizer = torch.optim.Adam(model.parameters(), lr=0.001)\n",
    "\n",
    "# Convert the tensors to the appropriate device\n",
    "train_tensor = train_tensor.to(device)\n",
    "test_tensor = test_tensor.to(device)\n",
    "\n",
    "# Train the model\n",
    "num_epochs = 1000\n",
    "for epoch in range(num_epochs):\n",
    "    model.train()\n",
    "    optimizer.zero_grad()\n",
    "    outputs = model(train_tensor.unsqueeze(0))\n",
    "    loss = criterion(outputs.squeeze(), train_tensor)\n",
    "    loss.backward()\n",
    "    optimizer.step()\n",
    "\n",
    "    if (epoch+1) % 100 == 0:\n",
    "        print(f'Epoch: {epoch+1}, Loss: {loss.item():.4f}')\n",
    "\n",
    "# Set the model to evaluation mode\n",
    "model.eval()\n",
    "\n",
    "# Predict the water temperature for 12/30/2022\n",
    "input_data = torch.from_numpy(scaler.transform(np.array([[16.221020]]))).float().unsqueeze(0).to(device)\n",
    "prediction = model(input_data)\n",
    "\n",
    "# Convert the prediction back to its original scale\n",
    "prediction = scaler.inverse_transform(prediction.cpu().detach().numpy())\n",
    "\n",
    "print('Predicted water temperature on 12/30/2022:', prediction.item())\n"
   ]
  }
 ],
 "metadata": {
  "kernelspec": {
   "display_name": "base",
   "language": "python",
   "name": "python3"
  },
  "language_info": {
   "codemirror_mode": {
    "name": "ipython",
    "version": 3
   },
   "file_extension": ".py",
   "mimetype": "text/x-python",
   "name": "python",
   "nbconvert_exporter": "python",
   "pygments_lexer": "ipython3",
   "version": "3.10.9"
  },
  "orig_nbformat": 4
 },
 "nbformat": 4,
 "nbformat_minor": 2
}
