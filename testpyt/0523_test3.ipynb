{
 "cells": [
  {
   "cell_type": "code",
   "execution_count": 1,
   "metadata": {},
   "outputs": [],
   "source": [
    "import requests\n",
    "import csv\n",
    "from datetime import datetime, timedelta\n",
    "\n",
    "url = \"http://www.khoa.go.kr/api/oceangrid/tidalBuAirTemp/search.do\"\n",
    "params = {\n",
    "    \"ServiceKey\": \"Sfb4fiGk1sy9O8Qfnn4A==\",\n",
    "    \"ObsCode\": \"KG_0028\",\n",
    "    \"Date\": \"\",\n",
    "    \"ResultType\": \"json\"\n",
    "}\n",
    "\n",
    "start_date = datetime(2013, 1, 1).date()  # Set the starting date\n",
    "num_days = 3650\n",
    "\n",
    "# Open the CSV file for writing\n",
    "with open(\"dataair.csv\", \"w\", newline=\"\") as file:\n",
    "    writer = csv.writer(file)\n",
    "\n",
    "    for i in range(num_days):\n",
    "        current_date = start_date + timedelta(days=i)\n",
    "        current_date_str = current_date.strftime(\"%Y%m%d\")\n",
    "        params[\"Date\"] = current_date_str\n",
    "\n",
    "        response = requests.get(url, params=params)\n",
    "\n",
    "        # Check if the request was successful (status code 200)\n",
    "        if response.status_code == 200:\n",
    "            data = response.json()\n",
    "            # Process the retrieved JSON data as per your requirements\n",
    "            # You can access the specific data elements using dictionary keys\n",
    "\n",
    "            # Example: Write data to CSV file\n",
    "            writer.writerow([current_date_str, data])  # Customize the columns as needed\n",
    "        else:\n",
    "            # Handle the error case\n",
    "            print(f\"Error for {current_date_str}:\", response.status_code)"
   ]
  }
 ],
 "metadata": {
  "kernelspec": {
   "display_name": "base",
   "language": "python",
   "name": "python3"
  },
  "language_info": {
   "codemirror_mode": {
    "name": "ipython",
    "version": 3
   },
   "file_extension": ".py",
   "mimetype": "text/x-python",
   "name": "python",
   "nbconvert_exporter": "python",
   "pygments_lexer": "ipython3",
   "version": "3.10.9"
  },
  "orig_nbformat": 4
 },
 "nbformat": 4,
 "nbformat_minor": 2
}
