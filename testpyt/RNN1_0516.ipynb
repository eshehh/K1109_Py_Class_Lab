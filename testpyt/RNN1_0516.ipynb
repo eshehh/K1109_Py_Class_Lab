{
 "cells": [
  {
   "cell_type": "code",
   "execution_count": 2,
   "metadata": {},
   "outputs": [],
   "source": [
    "import torch\n",
    "import torch.nn as nn\n",
    "import torch.optim as optim\n",
    "import numpy as np"
   ]
  },
  {
   "cell_type": "code",
   "execution_count": 5,
   "metadata": {},
   "outputs": [
    {
     "name": "stdout",
     "output_type": "stream",
     "text": [
      "['a', 'e', 'l', 'p'] 4\n"
     ]
    }
   ],
   "source": [
    "input_str='appl'\n",
    "label_str='pple'\n",
    "char_vocab=sorted(list(set(input_str+label_str)))\n",
    "vocab_size=len(char_vocab)\n",
    "print(char_vocab, vocab_size)"
   ]
  },
  {
   "cell_type": "code",
   "execution_count": 6,
   "metadata": {},
   "outputs": [],
   "source": [
    "input_size=vocab_size\n",
    "hidden_size=4\n",
    "output_size=4\n",
    "learning_rate=0.1"
   ]
  },
  {
   "cell_type": "code",
   "execution_count": 7,
   "metadata": {},
   "outputs": [
    {
     "name": "stdout",
     "output_type": "stream",
     "text": [
      "{'a': 0, 'e': 1, 'l': 2, 'p': 3}\n"
     ]
    }
   ],
   "source": [
    "char_to_index=dict((c,i) for i, c in enumerate (char_vocab))\n",
    "print(char_to_index)"
   ]
  },
  {
   "cell_type": "code",
   "execution_count": 9,
   "metadata": {},
   "outputs": [
    {
     "name": "stdout",
     "output_type": "stream",
     "text": [
      "{0: 'a', 1: 'e', 2: 'l', 3: 'p'}\n"
     ]
    }
   ],
   "source": [
    "index_to_char={}\n",
    "for key, value in char_to_index.items():\n",
    "    index_to_char[value]=key\n",
    "print(index_to_char)"
   ]
  },
  {
   "cell_type": "code",
   "execution_count": 10,
   "metadata": {},
   "outputs": [
    {
     "name": "stdout",
     "output_type": "stream",
     "text": [
      "[0, 3, 3, 2]\n",
      "[3, 3, 2, 1]\n"
     ]
    }
   ],
   "source": [
    "x_data=[char_to_index[c] for c in input_str]\n",
    "y_data=[char_to_index[c] for c in label_str]\n",
    "print(x_data)\n",
    "print(y_data)"
   ]
  },
  {
   "cell_type": "code",
   "execution_count": 11,
   "metadata": {},
   "outputs": [
    {
     "name": "stdout",
     "output_type": "stream",
     "text": [
      "[[0, 3, 3, 2]] [[3, 3, 2, 1]]\n"
     ]
    }
   ],
   "source": [
    "x_data=[x_data] # 차원을 하나 올린다\n",
    "y_data=[y_data]\n",
    "print(x_data, y_data)"
   ]
  },
  {
   "cell_type": "code",
   "execution_count": 12,
   "metadata": {},
   "outputs": [
    {
     "name": "stdout",
     "output_type": "stream",
     "text": [
      "[array([[1., 0., 0., 0.],\n",
      "       [0., 0., 0., 1.],\n",
      "       [0., 0., 0., 1.],\n",
      "       [0., 0., 1., 0.]])]\n"
     ]
    }
   ],
   "source": [
    "x_one_hot=[np.eye(vocab_size)[x] for x in x_data]\n",
    "print(x_one_hot)"
   ]
  },
  {
   "cell_type": "code",
   "execution_count": 14,
   "metadata": {},
   "outputs": [
    {
     "name": "stdout",
     "output_type": "stream",
     "text": [
      "torch.Size([1, 4, 4]) tensor([[[1., 0., 0., 0.],\n",
      "         [0., 0., 0., 1.],\n",
      "         [0., 0., 0., 1.],\n",
      "         [0., 0., 1., 0.]]])\n",
      "torch.Size([1, 4]) tensor([[3, 3, 2, 1]])\n"
     ]
    }
   ],
   "source": [
    "X=torch.FloatTensor(x_one_hot)\n",
    "Y=torch.LongTensor(y_data)\n",
    "print(X.shape, X)\n",
    "print(Y.shape, Y)"
   ]
  },
  {
   "cell_type": "code",
   "execution_count": 17,
   "metadata": {},
   "outputs": [],
   "source": [
    "class Net(nn.Module):\n",
    "    def __init__(self, input_size, hidden_size, output_size):\n",
    "        super(Net, self).__init__()\n",
    "        self.rnn=nn.RNN(input_size, hidden_size, batch_first=True)\n",
    "        self.fc=nn.Linear(hidden_size, output_size, bias=True)\n",
    "\n",
    "    def forward(self, x):\n",
    "        x, _status=self.rnn(x)\n",
    "        x=self.fc(x)\n",
    "        return x"
   ]
  },
  {
   "cell_type": "code",
   "execution_count": 18,
   "metadata": {},
   "outputs": [
    {
     "name": "stdout",
     "output_type": "stream",
     "text": [
      "torch.Size([1, 4, 4]) tensor([[[ 1.0088, -0.4070, -0.0286, -0.4452],\n",
      "         [ 1.0270, -0.1272,  0.3263, -0.5567],\n",
      "         [ 0.8653, -0.0964,  0.3555, -0.5505],\n",
      "         [ 0.9027, -0.1660,  0.2742, -0.5294]]], grad_fn=<ViewBackward0>)\n"
     ]
    }
   ],
   "source": [
    "net=Net(input_size, hidden_size, output_size)\n",
    "\n",
    "outputs=net(X)\n",
    "print(outputs.shape, outputs)"
   ]
  },
  {
   "cell_type": "code",
   "execution_count": 20,
   "metadata": {},
   "outputs": [
    {
     "name": "stdout",
     "output_type": "stream",
     "text": [
      "torch.Size([4, 4])\n"
     ]
    }
   ],
   "source": [
    "print(outputs.view(-1, input_size).shape)"
   ]
  },
  {
   "cell_type": "code",
   "execution_count": 21,
   "metadata": {},
   "outputs": [
    {
     "name": "stdout",
     "output_type": "stream",
     "text": [
      "torch.Size([1, 4])\n",
      "torch.Size([4])\n"
     ]
    }
   ],
   "source": [
    "print(Y.shape)\n",
    "print(Y.view(-1).shape)"
   ]
  },
  {
   "cell_type": "code",
   "execution_count": 22,
   "metadata": {},
   "outputs": [],
   "source": [
    "criterion=nn.CrossEntropyLoss()\n",
    "optimizer=optim.Adam(net.parameters(), learning_rate)"
   ]
  },
  {
   "cell_type": "code",
   "execution_count": 24,
   "metadata": {},
   "outputs": [
    {
     "name": "stdout",
     "output_type": "stream",
     "text": [
      "0 loss 1.5138822793960571 prediction: [[0 2 2 2]] true Y [[3, 3, 2, 1]] prediction_str: alll\n",
      "1 loss 1.33321213722229 prediction: [[0 2 2 2]] true Y [[3, 3, 2, 1]] prediction_str: alll\n",
      "2 loss 1.1580781936645508 prediction: [[0 2 2 1]] true Y [[3, 3, 2, 1]] prediction_str: alle\n",
      "3 loss 0.9515467882156372 prediction: [[0 2 2 1]] true Y [[3, 3, 2, 1]] prediction_str: alle\n",
      "4 loss 0.800633430480957 prediction: [[0 3 2 1]] true Y [[3, 3, 2, 1]] prediction_str: aple\n",
      "5 loss 0.6639522314071655 prediction: [[0 3 2 1]] true Y [[3, 3, 2, 1]] prediction_str: aple\n",
      "6 loss 0.4802587032318115 prediction: [[3 3 2 1]] true Y [[3, 3, 2, 1]] prediction_str: pple\n",
      "7 loss 0.34566566348075867 prediction: [[3 3 2 1]] true Y [[3, 3, 2, 1]] prediction_str: pple\n",
      "8 loss 0.25749266147613525 prediction: [[3 3 2 1]] true Y [[3, 3, 2, 1]] prediction_str: pple\n",
      "9 loss 0.19284559786319733 prediction: [[3 3 2 1]] true Y [[3, 3, 2, 1]] prediction_str: pple\n"
     ]
    }
   ],
   "source": [
    "for i in range(10):\n",
    "    optimizer.zero_grad()\n",
    "    outputs=net(X)\n",
    "    loss=criterion(outputs.view(-1, input_size), Y.view(-1))\n",
    "    loss.backward()\n",
    "    optimizer.step()\n",
    "\n",
    "    result=outputs.data.numpy().argmax(axis=2)\n",
    "    result_str=''.join([index_to_char[c] for c in np.squeeze(result)])\n",
    "    print(i, \"loss\", loss.item(), \"prediction:\", result, \"true Y\", y_data, \"prediction_str:\", result_str)"
   ]
  }
 ],
 "metadata": {
  "kernelspec": {
   "display_name": "base",
   "language": "python",
   "name": "python3"
  },
  "language_info": {
   "codemirror_mode": {
    "name": "ipython",
    "version": 3
   },
   "file_extension": ".py",
   "mimetype": "text/x-python",
   "name": "python",
   "nbconvert_exporter": "python",
   "pygments_lexer": "ipython3",
   "version": "3.10.9"
  },
  "orig_nbformat": 4
 },
 "nbformat": 4,
 "nbformat_minor": 2
}
