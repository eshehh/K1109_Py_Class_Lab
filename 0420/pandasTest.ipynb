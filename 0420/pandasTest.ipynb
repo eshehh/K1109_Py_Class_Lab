{
 "cells": [
  {
   "cell_type": "code",
   "execution_count": 7,
   "metadata": {},
   "outputs": [
    {
     "name": "stdout",
     "output_type": "stream",
     "text": [
      "a    1\n",
      "b    2\n",
      "c    3\n",
      "d    4\n",
      "dtype: int64\n",
      "(4,)\n",
      "Index(['a', 'b', 'c', 'd'], dtype='object')\n",
      "[1 2 3 4]\n"
     ]
    }
   ],
   "source": [
    "import pandas as pd\n",
    "\n",
    "a=[1,2,3,4]\n",
    "s1=pd.Series(a)\n",
    "s1.index=['a','b','c','d']\n",
    "print(s1)\n",
    "print(s1.shape)\n",
    "print(s1.index)\n",
    "print(s1.values)"
   ]
  },
  {
   "cell_type": "code",
   "execution_count": 8,
   "metadata": {},
   "outputs": [
    {
     "data": {
      "text/plain": [
       "a    10\n",
       "b    20\n",
       "c    30\n",
       "dtype: int64"
      ]
     },
     "execution_count": 8,
     "metadata": {},
     "output_type": "execute_result"
    }
   ],
   "source": [
    "a={'a':10,'b':20,'c':30}\n",
    "s2=pd.Series(a)\n",
    "s2"
   ]
  },
  {
   "cell_type": "code",
   "execution_count": 9,
   "metadata": {},
   "outputs": [
    {
     "data": {
      "text/html": [
       "<div>\n",
       "<style scoped>\n",
       "    .dataframe tbody tr th:only-of-type {\n",
       "        vertical-align: middle;\n",
       "    }\n",
       "\n",
       "    .dataframe tbody tr th {\n",
       "        vertical-align: top;\n",
       "    }\n",
       "\n",
       "    .dataframe thead th {\n",
       "        text-align: right;\n",
       "    }\n",
       "</style>\n",
       "<table border=\"1\" class=\"dataframe\">\n",
       "  <thead>\n",
       "    <tr style=\"text-align: right;\">\n",
       "      <th></th>\n",
       "      <th>name</th>\n",
       "      <th>score</th>\n",
       "      <th>major</th>\n",
       "    </tr>\n",
       "  </thead>\n",
       "  <tbody>\n",
       "    <tr>\n",
       "      <th>0</th>\n",
       "      <td>kim</td>\n",
       "      <td>85</td>\n",
       "      <td>컴공</td>\n",
       "    </tr>\n",
       "    <tr>\n",
       "      <th>1</th>\n",
       "      <td>lee</td>\n",
       "      <td>70</td>\n",
       "      <td>정보통신</td>\n",
       "    </tr>\n",
       "    <tr>\n",
       "      <th>2</th>\n",
       "      <td>park</td>\n",
       "      <td>75</td>\n",
       "      <td>경영</td>\n",
       "    </tr>\n",
       "    <tr>\n",
       "      <th>3</th>\n",
       "      <td>hong</td>\n",
       "      <td>90</td>\n",
       "      <td>컴공</td>\n",
       "    </tr>\n",
       "    <tr>\n",
       "      <th>4</th>\n",
       "      <td>jang</td>\n",
       "      <td>95</td>\n",
       "      <td>경영</td>\n",
       "    </tr>\n",
       "  </tbody>\n",
       "</table>\n",
       "</div>"
      ],
      "text/plain": [
       "   name  score major\n",
       "0   kim     85    컴공\n",
       "1   lee     70  정보통신\n",
       "2  park     75    경영\n",
       "3  hong     90    컴공\n",
       "4  jang     95    경영"
      ]
     },
     "execution_count": 9,
     "metadata": {},
     "output_type": "execute_result"
    }
   ],
   "source": [
    "names=['kim','lee','park','hong','jang']\n",
    "scores=[85,70,75,90,95]\n",
    "majors=['컴공','정보통신','경영','컴공','경영']\n",
    "\n",
    "data={'name':names, 'score':scores, 'major':majors}\n",
    "df=pd.DataFrame(data)\n",
    "df"
   ]
  },
  {
   "cell_type": "code",
   "execution_count": 28,
   "metadata": {},
   "outputs": [
    {
     "data": {
      "text/html": [
       "<div>\n",
       "<style scoped>\n",
       "    .dataframe tbody tr th:only-of-type {\n",
       "        vertical-align: middle;\n",
       "    }\n",
       "\n",
       "    .dataframe tbody tr th {\n",
       "        vertical-align: top;\n",
       "    }\n",
       "\n",
       "    .dataframe thead th {\n",
       "        text-align: right;\n",
       "    }\n",
       "</style>\n",
       "<table border=\"1\" class=\"dataframe\">\n",
       "  <thead>\n",
       "    <tr style=\"text-align: right;\">\n",
       "      <th></th>\n",
       "      <th>name</th>\n",
       "      <th>score</th>\n",
       "      <th>major</th>\n",
       "      <th>grade</th>\n",
       "      <th>level</th>\n",
       "    </tr>\n",
       "  </thead>\n",
       "  <tbody>\n",
       "    <tr>\n",
       "      <th>0</th>\n",
       "      <td>kim</td>\n",
       "      <td>85</td>\n",
       "      <td>컴공</td>\n",
       "      <td>1</td>\n",
       "      <td>B</td>\n",
       "    </tr>\n",
       "    <tr>\n",
       "      <th>1</th>\n",
       "      <td>lee</td>\n",
       "      <td>70</td>\n",
       "      <td>정보통신</td>\n",
       "      <td>2</td>\n",
       "      <td>C</td>\n",
       "    </tr>\n",
       "    <tr>\n",
       "      <th>2</th>\n",
       "      <td>park</td>\n",
       "      <td>75</td>\n",
       "      <td>경영</td>\n",
       "      <td>2</td>\n",
       "      <td>C</td>\n",
       "    </tr>\n",
       "    <tr>\n",
       "      <th>3</th>\n",
       "      <td>hong</td>\n",
       "      <td>90</td>\n",
       "      <td>컴공</td>\n",
       "      <td>1</td>\n",
       "      <td>A</td>\n",
       "    </tr>\n",
       "    <tr>\n",
       "      <th>4</th>\n",
       "      <td>jang</td>\n",
       "      <td>95</td>\n",
       "      <td>경영</td>\n",
       "      <td>4</td>\n",
       "      <td>A</td>\n",
       "    </tr>\n",
       "  </tbody>\n",
       "</table>\n",
       "</div>"
      ],
      "text/plain": [
       "   name score major  grade level\n",
       "0   kim    85    컴공      1     B\n",
       "1   lee    70  정보통신      2     C\n",
       "2  park    75    경영      2     C\n",
       "3  hong    90    컴공      1     A\n",
       "4  jang    95    경영      4     A"
      ]
     },
     "execution_count": 28,
     "metadata": {},
     "output_type": "execute_result"
    }
   ],
   "source": [
    "data1=[names, scores, majors]\n",
    "data1\n",
    "\n",
    "df=pd.DataFrame(data1).T\n",
    "df.columns=['name','score','major']\n",
    "# df[['name', 'major']] # 두개 이상의 필드를 선택할때는 [] 하나 더 필요\n",
    "df['grade']=[1,2,2,1,4]\n",
    "# df.level=[\"B\",\"C\",\"C\",\"A\",\"A\"]\n",
    "df['level']=[\"B\",\"C\",\"C\",\"A\",\"A\"]\n",
    "df"
   ]
  },
  {
   "cell_type": "code",
   "execution_count": 29,
   "metadata": {},
   "outputs": [
    {
     "data": {
      "text/html": [
       "<div>\n",
       "<style scoped>\n",
       "    .dataframe tbody tr th:only-of-type {\n",
       "        vertical-align: middle;\n",
       "    }\n",
       "\n",
       "    .dataframe tbody tr th {\n",
       "        vertical-align: top;\n",
       "    }\n",
       "\n",
       "    .dataframe thead th {\n",
       "        text-align: right;\n",
       "    }\n",
       "</style>\n",
       "<table border=\"1\" class=\"dataframe\">\n",
       "  <thead>\n",
       "    <tr style=\"text-align: right;\">\n",
       "      <th></th>\n",
       "      <th>name</th>\n",
       "      <th>score</th>\n",
       "      <th>major</th>\n",
       "      <th>grade</th>\n",
       "      <th>level</th>\n",
       "    </tr>\n",
       "  </thead>\n",
       "  <tbody>\n",
       "    <tr>\n",
       "      <th>0</th>\n",
       "      <td>kim</td>\n",
       "      <td>85</td>\n",
       "      <td>컴공</td>\n",
       "      <td>1</td>\n",
       "      <td>B</td>\n",
       "    </tr>\n",
       "    <tr>\n",
       "      <th>1</th>\n",
       "      <td>lee</td>\n",
       "      <td>70</td>\n",
       "      <td>정보통신</td>\n",
       "      <td>2</td>\n",
       "      <td>C</td>\n",
       "    </tr>\n",
       "    <tr>\n",
       "      <th>2</th>\n",
       "      <td>park</td>\n",
       "      <td>75</td>\n",
       "      <td>경영</td>\n",
       "      <td>2</td>\n",
       "      <td>C</td>\n",
       "    </tr>\n",
       "    <tr>\n",
       "      <th>3</th>\n",
       "      <td>hong</td>\n",
       "      <td>90</td>\n",
       "      <td>컴공</td>\n",
       "      <td>1</td>\n",
       "      <td>A</td>\n",
       "    </tr>\n",
       "    <tr>\n",
       "      <th>4</th>\n",
       "      <td>jang</td>\n",
       "      <td>95</td>\n",
       "      <td>경영</td>\n",
       "      <td>4</td>\n",
       "      <td>A</td>\n",
       "    </tr>\n",
       "  </tbody>\n",
       "</table>\n",
       "</div>"
      ],
      "text/plain": [
       "   name score major  grade level\n",
       "0   kim    85    컴공      1     B\n",
       "1   lee    70  정보통신      2     C\n",
       "2  park    75    경영      2     C\n",
       "3  hong    90    컴공      1     A\n",
       "4  jang    95    경영      4     A"
      ]
     },
     "execution_count": 29,
     "metadata": {},
     "output_type": "execute_result"
    }
   ],
   "source": [
    "# 열삭제\n",
    "# del df['level']\n",
    "df"
   ]
  },
  {
   "cell_type": "code",
   "execution_count": 31,
   "metadata": {},
   "outputs": [
    {
     "data": {
      "text/html": [
       "<div>\n",
       "<style scoped>\n",
       "    .dataframe tbody tr th:only-of-type {\n",
       "        vertical-align: middle;\n",
       "    }\n",
       "\n",
       "    .dataframe tbody tr th {\n",
       "        vertical-align: top;\n",
       "    }\n",
       "\n",
       "    .dataframe thead th {\n",
       "        text-align: right;\n",
       "    }\n",
       "</style>\n",
       "<table border=\"1\" class=\"dataframe\">\n",
       "  <thead>\n",
       "    <tr style=\"text-align: right;\">\n",
       "      <th></th>\n",
       "      <th>name</th>\n",
       "      <th>score</th>\n",
       "      <th>major</th>\n",
       "      <th>grade</th>\n",
       "      <th>level</th>\n",
       "    </tr>\n",
       "  </thead>\n",
       "  <tbody>\n",
       "    <tr>\n",
       "      <th>a</th>\n",
       "      <td>kim</td>\n",
       "      <td>85</td>\n",
       "      <td>컴공</td>\n",
       "      <td>1</td>\n",
       "      <td>B</td>\n",
       "    </tr>\n",
       "    <tr>\n",
       "      <th>b</th>\n",
       "      <td>lee</td>\n",
       "      <td>70</td>\n",
       "      <td>정보통신</td>\n",
       "      <td>2</td>\n",
       "      <td>C</td>\n",
       "    </tr>\n",
       "    <tr>\n",
       "      <th>c</th>\n",
       "      <td>park</td>\n",
       "      <td>75</td>\n",
       "      <td>경영</td>\n",
       "      <td>2</td>\n",
       "      <td>C</td>\n",
       "    </tr>\n",
       "    <tr>\n",
       "      <th>d</th>\n",
       "      <td>hong</td>\n",
       "      <td>90</td>\n",
       "      <td>컴공</td>\n",
       "      <td>1</td>\n",
       "      <td>A</td>\n",
       "    </tr>\n",
       "    <tr>\n",
       "      <th>e</th>\n",
       "      <td>jang</td>\n",
       "      <td>95</td>\n",
       "      <td>경영</td>\n",
       "      <td>4</td>\n",
       "      <td>A</td>\n",
       "    </tr>\n",
       "  </tbody>\n",
       "</table>\n",
       "</div>"
      ],
      "text/plain": [
       "   name score major  grade level\n",
       "a   kim    85    컴공      1     B\n",
       "b   lee    70  정보통신      2     C\n",
       "c  park    75    경영      2     C\n",
       "d  hong    90    컴공      1     A\n",
       "e  jang    95    경영      4     A"
      ]
     },
     "execution_count": 31,
     "metadata": {},
     "output_type": "execute_result"
    }
   ],
   "source": [
    "#인덱스 추가\n",
    "df.index=['a','b','c','d','e']\n",
    "df['score']\n",
    "df"
   ]
  },
  {
   "cell_type": "code",
   "execution_count": 41,
   "metadata": {},
   "outputs": [
    {
     "name": "stdout",
     "output_type": "stream",
     "text": [
      "   name major\n",
      "a   kim    컴공\n",
      "b   lee  정보통신\n",
      "c  park    경영\n",
      "d  hong    컴공\n"
     ]
    }
   ],
   "source": [
    "# df.iloc[1:3]\n",
    "# print(df.iloc[[1,3]])\n",
    "# print(df.loc['a']) #인덱스으로 이름으로 찾기\n",
    "# print(df.loc['a':'d','name'])\n",
    "print(df.loc['a':'d',['name','major']])"
   ]
  },
  {
   "cell_type": "code",
   "execution_count": 45,
   "metadata": {},
   "outputs": [
    {
     "name": "stdout",
     "output_type": "stream",
     "text": [
      "   name score major  grade level\n",
      "a   kim    85    컴공      1     B\n",
      "b   lee    70  정보통신      2     C\n",
      "c  park    75    경영      2     C\n",
      "d  hong    90    컴공      1     A\n",
      "e  jang    95    경영      4     A\n"
     ]
    },
    {
     "data": {
      "text/html": [
       "<div>\n",
       "<style scoped>\n",
       "    .dataframe tbody tr th:only-of-type {\n",
       "        vertical-align: middle;\n",
       "    }\n",
       "\n",
       "    .dataframe tbody tr th {\n",
       "        vertical-align: top;\n",
       "    }\n",
       "\n",
       "    .dataframe thead th {\n",
       "        text-align: right;\n",
       "    }\n",
       "</style>\n",
       "<table border=\"1\" class=\"dataframe\">\n",
       "  <thead>\n",
       "    <tr style=\"text-align: right;\">\n",
       "      <th></th>\n",
       "      <th>name</th>\n",
       "      <th>major</th>\n",
       "    </tr>\n",
       "  </thead>\n",
       "  <tbody>\n",
       "    <tr>\n",
       "      <th>a</th>\n",
       "      <td>kim</td>\n",
       "      <td>컴공</td>\n",
       "    </tr>\n",
       "    <tr>\n",
       "      <th>d</th>\n",
       "      <td>hong</td>\n",
       "      <td>컴공</td>\n",
       "    </tr>\n",
       "  </tbody>\n",
       "</table>\n",
       "</div>"
      ],
      "text/plain": [
       "   name major\n",
       "a   kim    컴공\n",
       "d  hong    컴공"
      ]
     },
     "execution_count": 45,
     "metadata": {},
     "output_type": "execute_result"
    }
   ],
   "source": [
    "print(df)\n",
    "df.loc[df.major=='컴공',['name','major']]"
   ]
  },
  {
   "cell_type": "code",
   "execution_count": 53,
   "metadata": {},
   "outputs": [
    {
     "data": {
      "text/html": [
       "<div>\n",
       "<style scoped>\n",
       "    .dataframe tbody tr th:only-of-type {\n",
       "        vertical-align: middle;\n",
       "    }\n",
       "\n",
       "    .dataframe tbody tr th {\n",
       "        vertical-align: top;\n",
       "    }\n",
       "\n",
       "    .dataframe thead th {\n",
       "        text-align: right;\n",
       "    }\n",
       "</style>\n",
       "<table border=\"1\" class=\"dataframe\">\n",
       "  <thead>\n",
       "    <tr style=\"text-align: right;\">\n",
       "      <th></th>\n",
       "      <th>name</th>\n",
       "      <th>kor</th>\n",
       "      <th>eng</th>\n",
       "      <th>math</th>\n",
       "      <th>total</th>\n",
       "      <th>avg</th>\n",
       "    </tr>\n",
       "  </thead>\n",
       "  <tbody>\n",
       "    <tr>\n",
       "      <th>a</th>\n",
       "      <td>kim</td>\n",
       "      <td>80</td>\n",
       "      <td>85</td>\n",
       "      <td>80</td>\n",
       "      <td>245</td>\n",
       "      <td>81.666667</td>\n",
       "    </tr>\n",
       "    <tr>\n",
       "      <th>b</th>\n",
       "      <td>lee</td>\n",
       "      <td>85</td>\n",
       "      <td>90</td>\n",
       "      <td>75</td>\n",
       "      <td>250</td>\n",
       "      <td>83.333333</td>\n",
       "    </tr>\n",
       "    <tr>\n",
       "      <th>c</th>\n",
       "      <td>park</td>\n",
       "      <td>95</td>\n",
       "      <td>100</td>\n",
       "      <td>90</td>\n",
       "      <td>285</td>\n",
       "      <td>95.000000</td>\n",
       "    </tr>\n",
       "    <tr>\n",
       "      <th>d</th>\n",
       "      <td>hong</td>\n",
       "      <td>90</td>\n",
       "      <td>95</td>\n",
       "      <td>85</td>\n",
       "      <td>270</td>\n",
       "      <td>90.000000</td>\n",
       "    </tr>\n",
       "    <tr>\n",
       "      <th>e</th>\n",
       "      <td>jang</td>\n",
       "      <td>75</td>\n",
       "      <td>75</td>\n",
       "      <td>80</td>\n",
       "      <td>230</td>\n",
       "      <td>76.666667</td>\n",
       "    </tr>\n",
       "  </tbody>\n",
       "</table>\n",
       "</div>"
      ],
      "text/plain": [
       "   name  kor  eng  math  total        avg\n",
       "a   kim   80   85    80    245  81.666667\n",
       "b   lee   85   90    75    250  83.333333\n",
       "c  park   95  100    90    285  95.000000\n",
       "d  hong   90   95    85    270  90.000000\n",
       "e  jang   75   75    80    230  76.666667"
      ]
     },
     "execution_count": 53,
     "metadata": {},
     "output_type": "execute_result"
    }
   ],
   "source": [
    "names=['kim','lee','park','hong','jang']\n",
    "kor=[80,85,95,90,75]\n",
    "eng=[85,90,100,95,75]\n",
    "math=[80,75,90,85,80]\n",
    "\n",
    "\n",
    "\n",
    "data={'name':names, 'kor':kor, 'eng':eng, 'math':math, }\n",
    "df=pd.DataFrame(data)\n",
    "df['total']=df.kor+df.eng+df.math\n",
    "df['avg']=df.total/3\n",
    "df.index=['a','b','c','d','e']\n",
    "df\n"
   ]
  },
  {
   "attachments": {},
   "cell_type": "markdown",
   "metadata": {},
   "source": [
    "name, kor, eng, math 리스트 값을 사용하여 DateFrame를 작성하시오\n",
    "total=kor+eng+math\n",
    "avg=total/3"
   ]
  },
  {
   "attachments": {},
   "cell_type": "markdown",
   "metadata": {},
   "source": [
    "이름이 lee인 사람의 국어 점수를 검색하라.\n",
    "평균이 90점 이상인 사람의 이름과 평균을 검색하라.\n",
    "인덱스를 사용하여 1행~3행까지 이름, total, avg를 검색하라."
   ]
  },
  {
   "cell_type": "code",
   "execution_count": 61,
   "metadata": {},
   "outputs": [
    {
     "name": "stdout",
     "output_type": "stream",
     "text": [
      "  name  kor\n",
      "b  lee   85\n",
      "   name   avg\n",
      "c  park  95.0\n",
      "d  hong  90.0\n",
      "   name  total        avg\n",
      "a   kim    245  81.666667\n",
      "b   lee    250  83.333333\n",
      "c  park    285  95.000000\n",
      "   name  total        avg\n",
      "a   kim    245  81.666667\n",
      "b   lee    250  83.333333\n",
      "c  park    285  95.000000\n"
     ]
    }
   ],
   "source": [
    "print(df.loc[df.name=='lee',['name','kor']])\n",
    "print(df.loc[df.avg>=90,['name','avg']])\n",
    "print(df.loc['a':'c',['name','total','avg']])\n",
    "print(df.iloc[:3,[0,4,5]])"
   ]
  },
  {
   "cell_type": "code",
   "execution_count": 63,
   "metadata": {},
   "outputs": [
    {
     "data": {
      "text/html": [
       "<div>\n",
       "<style scoped>\n",
       "    .dataframe tbody tr th:only-of-type {\n",
       "        vertical-align: middle;\n",
       "    }\n",
       "\n",
       "    .dataframe tbody tr th {\n",
       "        vertical-align: top;\n",
       "    }\n",
       "\n",
       "    .dataframe thead th {\n",
       "        text-align: right;\n",
       "    }\n",
       "</style>\n",
       "<table border=\"1\" class=\"dataframe\">\n",
       "  <thead>\n",
       "    <tr style=\"text-align: right;\">\n",
       "      <th></th>\n",
       "      <th>name</th>\n",
       "      <th>kor</th>\n",
       "      <th>eng</th>\n",
       "      <th>math</th>\n",
       "      <th>total</th>\n",
       "      <th>avg</th>\n",
       "      <th>합격여부</th>\n",
       "    </tr>\n",
       "  </thead>\n",
       "  <tbody>\n",
       "    <tr>\n",
       "      <th>a</th>\n",
       "      <td>kim</td>\n",
       "      <td>80</td>\n",
       "      <td>85</td>\n",
       "      <td>80</td>\n",
       "      <td>245</td>\n",
       "      <td>81.666667</td>\n",
       "      <td>불합격</td>\n",
       "    </tr>\n",
       "    <tr>\n",
       "      <th>b</th>\n",
       "      <td>lee</td>\n",
       "      <td>85</td>\n",
       "      <td>90</td>\n",
       "      <td>75</td>\n",
       "      <td>250</td>\n",
       "      <td>83.333333</td>\n",
       "      <td>불합격</td>\n",
       "    </tr>\n",
       "    <tr>\n",
       "      <th>c</th>\n",
       "      <td>park</td>\n",
       "      <td>95</td>\n",
       "      <td>100</td>\n",
       "      <td>90</td>\n",
       "      <td>285</td>\n",
       "      <td>95.000000</td>\n",
       "      <td>합격</td>\n",
       "    </tr>\n",
       "    <tr>\n",
       "      <th>d</th>\n",
       "      <td>hong</td>\n",
       "      <td>90</td>\n",
       "      <td>95</td>\n",
       "      <td>85</td>\n",
       "      <td>270</td>\n",
       "      <td>90.000000</td>\n",
       "      <td>합격</td>\n",
       "    </tr>\n",
       "    <tr>\n",
       "      <th>e</th>\n",
       "      <td>jang</td>\n",
       "      <td>75</td>\n",
       "      <td>75</td>\n",
       "      <td>80</td>\n",
       "      <td>230</td>\n",
       "      <td>76.666667</td>\n",
       "      <td>불합격</td>\n",
       "    </tr>\n",
       "  </tbody>\n",
       "</table>\n",
       "</div>"
      ],
      "text/plain": [
       "   name  kor  eng  math  total        avg 합격여부\n",
       "a   kim   80   85    80    245  81.666667  불합격\n",
       "b   lee   85   90    75    250  83.333333  불합격\n",
       "c  park   95  100    90    285  95.000000   합격\n",
       "d  hong   90   95    85    270  90.000000   합격\n",
       "e  jang   75   75    80    230  76.666667  불합격"
      ]
     },
     "execution_count": 63,
     "metadata": {},
     "output_type": "execute_result"
    }
   ],
   "source": [
    "df['합격여부'] = [ '합격' if a >= 90 else '불합격' for a in df['avg']]\n",
    "df"
   ]
  },
  {
   "cell_type": "code",
   "execution_count": 72,
   "metadata": {},
   "outputs": [
    {
     "name": "stdout",
     "output_type": "stream",
     "text": [
      "[0, 1, 2, 3, 4, 5, 6, 7, 8, 9]\n",
      "[0, 1, 2, 3, 4, 5, 6, 7, 8, 9]\n",
      "[1, 3, 5, 7, 9]\n",
      "[0, 0, 2, 0, 4, 0, 6, 0, 8, 0]\n",
      "[[0, 10, 20, 30, 40], [0, 11, 22, 33, 44], [0, 12, 24, 36, 48], [0, 13, 26, 39, 52], [0, 14, 28, 42, 56]]\n"
     ]
    }
   ],
   "source": [
    "# 리스트 컴프리헨션\n",
    "\n",
    "a=[]\n",
    "for i in range(0,10,1):\n",
    "    a.append(i)\n",
    "\n",
    "print(a)\n",
    "\n",
    "b=[i for i in range(10)]\n",
    "print(b)\n",
    "\n",
    "c=[i for i in range(10) if i%2==1]\n",
    "print(c)\n",
    "\n",
    "d=[i if i%2==0 else 0 for i in range(10)]\n",
    "print(d)\n",
    "\n",
    "e=[[i*j for j in range(5)] for i in range(10,15)]\n",
    "print(e)"
   ]
  },
  {
   "cell_type": "code",
   "execution_count": 74,
   "metadata": {},
   "outputs": [
    {
     "data": {
      "text/html": [
       "<div>\n",
       "<style scoped>\n",
       "    .dataframe tbody tr th:only-of-type {\n",
       "        vertical-align: middle;\n",
       "    }\n",
       "\n",
       "    .dataframe tbody tr th {\n",
       "        vertical-align: top;\n",
       "    }\n",
       "\n",
       "    .dataframe thead th {\n",
       "        text-align: right;\n",
       "    }\n",
       "</style>\n",
       "<table border=\"1\" class=\"dataframe\">\n",
       "  <thead>\n",
       "    <tr style=\"text-align: right;\">\n",
       "      <th></th>\n",
       "      <th>kor</th>\n",
       "      <th>eng</th>\n",
       "      <th>math</th>\n",
       "      <th>total</th>\n",
       "      <th>avg</th>\n",
       "    </tr>\n",
       "  </thead>\n",
       "  <tbody>\n",
       "    <tr>\n",
       "      <th>count</th>\n",
       "      <td>5.000000</td>\n",
       "      <td>5.000000</td>\n",
       "      <td>5.000000</td>\n",
       "      <td>5.000000</td>\n",
       "      <td>5.000000</td>\n",
       "    </tr>\n",
       "    <tr>\n",
       "      <th>mean</th>\n",
       "      <td>85.000000</td>\n",
       "      <td>89.000000</td>\n",
       "      <td>82.000000</td>\n",
       "      <td>256.000000</td>\n",
       "      <td>85.333333</td>\n",
       "    </tr>\n",
       "    <tr>\n",
       "      <th>std</th>\n",
       "      <td>7.905694</td>\n",
       "      <td>9.617692</td>\n",
       "      <td>5.700877</td>\n",
       "      <td>21.621748</td>\n",
       "      <td>7.207249</td>\n",
       "    </tr>\n",
       "    <tr>\n",
       "      <th>min</th>\n",
       "      <td>75.000000</td>\n",
       "      <td>75.000000</td>\n",
       "      <td>75.000000</td>\n",
       "      <td>230.000000</td>\n",
       "      <td>76.666667</td>\n",
       "    </tr>\n",
       "    <tr>\n",
       "      <th>25%</th>\n",
       "      <td>80.000000</td>\n",
       "      <td>85.000000</td>\n",
       "      <td>80.000000</td>\n",
       "      <td>245.000000</td>\n",
       "      <td>81.666667</td>\n",
       "    </tr>\n",
       "    <tr>\n",
       "      <th>50%</th>\n",
       "      <td>85.000000</td>\n",
       "      <td>90.000000</td>\n",
       "      <td>80.000000</td>\n",
       "      <td>250.000000</td>\n",
       "      <td>83.333333</td>\n",
       "    </tr>\n",
       "    <tr>\n",
       "      <th>75%</th>\n",
       "      <td>90.000000</td>\n",
       "      <td>95.000000</td>\n",
       "      <td>85.000000</td>\n",
       "      <td>270.000000</td>\n",
       "      <td>90.000000</td>\n",
       "    </tr>\n",
       "    <tr>\n",
       "      <th>max</th>\n",
       "      <td>95.000000</td>\n",
       "      <td>100.000000</td>\n",
       "      <td>90.000000</td>\n",
       "      <td>285.000000</td>\n",
       "      <td>95.000000</td>\n",
       "    </tr>\n",
       "  </tbody>\n",
       "</table>\n",
       "</div>"
      ],
      "text/plain": [
       "             kor         eng       math       total        avg\n",
       "count   5.000000    5.000000   5.000000    5.000000   5.000000\n",
       "mean   85.000000   89.000000  82.000000  256.000000  85.333333\n",
       "std     7.905694    9.617692   5.700877   21.621748   7.207249\n",
       "min    75.000000   75.000000  75.000000  230.000000  76.666667\n",
       "25%    80.000000   85.000000  80.000000  245.000000  81.666667\n",
       "50%    85.000000   90.000000  80.000000  250.000000  83.333333\n",
       "75%    90.000000   95.000000  85.000000  270.000000  90.000000\n",
       "max    95.000000  100.000000  90.000000  285.000000  95.000000"
      ]
     },
     "execution_count": 74,
     "metadata": {},
     "output_type": "execute_result"
    }
   ],
   "source": [
    "df.describe()"
   ]
  },
  {
   "cell_type": "code",
   "execution_count": 79,
   "metadata": {},
   "outputs": [
    {
     "data": {
      "text/plain": [
       "name     park\n",
       "kor        95\n",
       "eng       100\n",
       "math       90\n",
       "total     285\n",
       "avg      95.0\n",
       "합격여부       합격\n",
       "dtype: object"
      ]
     },
     "execution_count": 79,
     "metadata": {},
     "output_type": "execute_result"
    }
   ],
   "source": [
    "df.max(axis=0)"
   ]
  },
  {
   "cell_type": "code",
   "execution_count": null,
   "metadata": {},
   "outputs": [],
   "source": [
    "# python open()함수\n",
    "# csv 모듈\n",
    "# pandas 모듈"
   ]
  },
  {
   "cell_type": "code",
   "execution_count": 80,
   "metadata": {},
   "outputs": [],
   "source": [
    "#python open\n",
    "infilepath=\"data/input.csv\"\n",
    "outfilepath='data/output.csv'"
   ]
  },
  {
   "cell_type": "code",
   "execution_count": 86,
   "metadata": {},
   "outputs": [
    {
     "name": "stdout",
     "output_type": "stream",
     "text": [
      "Supplier Name,Invoice Number,Part Number,Cost,Purchase Date\n",
      "['A', '001-1001', '2341', '\"$500', '000\"', '2014-01-20']\n",
      "['A', '001-1001', '5467', '500000', '2014-01-20']\n",
      "['A', '001-1001', '5407', '750000', '2014-01-20']\n",
      "['A', '001-1001', '2341', '750000', '2014-01-20']\n",
      "['B', '50-9501', '7009', '250000', '2018-01-30']\n",
      "['B', '50-9501', '7009', '250000', '2018-01-30']\n",
      "['B', '50-9505', '6650', '125000', '2017-02-03']\n",
      "['B', '50-9505', '6650', '125000', '2017-02-03']\n",
      "['C', '920-4803', '3321', '615000', '2017-02-03']\n",
      "['C', '920-4804', '3321', '615000', '2017-02-10']\n",
      "['C', '920-4805', '3321', '615000', '2017-02-17']\n",
      "['C', '920-4806', '3321', '615000', '2017-02-24']\n"
     ]
    }
   ],
   "source": [
    "#python open\n",
    "with open(infilepath, 'r',newline='' ) as reader:\n",
    "    with open(outfilepath, 'w',newline=\"\") as writer:\n",
    "        header=reader.readline() #위에 한개 라인 읽기\n",
    "        header=header.strip() #양쪽 끝에 공백 없애기\n",
    "        header_list=header.split(',') #,를 기준으로 문자를 나누어서 읽기\n",
    "        print(header)\n",
    "        # print(type(header_list))\n",
    "\n",
    "        writer.write(','.join(header_list)+\"\\n\")\n",
    "        for row in reader:\n",
    "            row=row.strip()\n",
    "            row_list=row.split(',')\n",
    "            print(row_list)\n",
    "            writer.write(','.join(row_list)+\"\\n\")\n"
   ]
  },
  {
   "cell_type": "code",
   "execution_count": 93,
   "metadata": {},
   "outputs": [],
   "source": [
    "df=pd.read_csv(infilepath)\n",
    "# print(df)\n",
    "df['Cost']=df['Cost'].str.strip('$').str.replace(\",\",\"\").astype(float)\n",
    "# print(df)\n",
    "# df.to_csv(\"data/output2.csv\",index=False)\n",
    "result=df.loc[(df['Supplier Name']=='A') & (df['Cost']>700000),:]\n",
    "result\n",
    "result.to_csv(\"data/output3.csv\",index=False)"
   ]
  },
  {
   "attachments": {},
   "cell_type": "markdown",
   "metadata": {},
   "source": [
    "Supplier Name이 C이거나 Cost가 250,000 미만인 것을 선택하라. \n",
    "Supplier Name별 Cost의 평균을 구하라. "
   ]
  },
  {
   "cell_type": "code",
   "execution_count": 95,
   "metadata": {},
   "outputs": [],
   "source": [
    "df=pd.read_csv(infilepath)\n",
    "# print(df)\n",
    "df['Cost']=df['Cost'].str.strip('$').str.replace(\",\",\"\").astype(float)\n",
    "# print(df)\n",
    "# df.to_csv(\"data/output2.csv\",index=False)\n",
    "result=df.loc[(df['Supplier Name']=='C') | (df['Cost']<250000),:]\n",
    "result\n",
    "result.to_csv(\"data/output4.csv\",index=False)"
   ]
  },
  {
   "cell_type": "code",
   "execution_count": 99,
   "metadata": {},
   "outputs": [
    {
     "name": "stdout",
     "output_type": "stream",
     "text": [
      "                   Cost\n",
      "Supplier Name          \n",
      "A              625000.0\n",
      "B              187500.0\n",
      "C              615000.0\n"
     ]
    }
   ],
   "source": [
    "df=pd.read_csv(infilepath)\n",
    "# print(df)\n",
    "df['Cost']=df['Cost'].str.strip('$').str.replace(\",\",\"\").astype(float)\n",
    "df2=df[['Supplier Name','Cost']]\n",
    "result=df2.groupby('Supplier Name').mean()\n",
    "print(result)"
   ]
  },
  {
   "cell_type": "code",
   "execution_count": null,
   "metadata": {},
   "outputs": [],
   "source": [
    "#python open, 조건 검색 행만 선택하기\n",
    "#supplier name이 A이고 cost가 700000이상인 데이터 선택\n",
    "with open(infilepath, 'r',newline='' ) as reader:\n",
    "    with open(outfilepath, 'w',newline=\"\") as writer:\n",
    "        header=reader.readline() #위에 한개 라인 읽기\n",
    "        header=header.strip() #양쪽 끝에 공백 없애기\n",
    "        header_list=header.split(',') #,를 기준으로 문자를 나누어서 읽기\n",
    "        print(header)\n",
    "        # print(type(header_list))\n",
    "\n",
    "        writer.write(','.join(header_list)+\"\\n\")\n",
    "        for row in reader:\n",
    "            supplier=row[0].strip()\n",
    "            cost=row[3].strip('$').replace(\",\",\"\")\n",
    "            print(cost)\n",
    "\n",
    "            if supplier==\"A\" and float(cost)>=700000:\n",
    "                print(row)\n",
    "                writer.writerrow(row)\n"
   ]
  },
  {
   "cell_type": "code",
   "execution_count": 83,
   "metadata": {},
   "outputs": [
    {
     "name": "stdout",
     "output_type": "stream",
     "text": [
      "red-blue-green\n"
     ]
    }
   ],
   "source": [
    "kk=['red','blue','green']\n",
    "str=','.join(kk)\n",
    "print(str)"
   ]
  },
  {
   "cell_type": "code",
   "execution_count": 84,
   "metadata": {},
   "outputs": [
    {
     "name": "stdout",
     "output_type": "stream",
     "text": [
      "['red-blue-green']\n"
     ]
    }
   ],
   "source": [
    "ll=str.split(',')\n",
    "print(ll)"
   ]
  }
 ],
 "metadata": {
  "kernelspec": {
   "display_name": "base",
   "language": "python",
   "name": "python3"
  },
  "language_info": {
   "codemirror_mode": {
    "name": "ipython",
    "version": 3
   },
   "file_extension": ".py",
   "mimetype": "text/x-python",
   "name": "python",
   "nbconvert_exporter": "python",
   "pygments_lexer": "ipython3",
   "version": "3.10.9"
  },
  "orig_nbformat": 4
 },
 "nbformat": 4,
 "nbformat_minor": 2
}
